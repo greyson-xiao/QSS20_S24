{
 "cells": [
  {
   "cell_type": "markdown",
   "metadata": {},
   "source": [
    "# Problem Set 1: Analysis of racial disparities in felony sentencing"
   ]
  },
  {
   "cell_type": "markdown",
   "metadata": {},
   "source": [
    "# 0. Load packages and imports"
   ]
  },
  {
   "cell_type": "code",
   "execution_count": 34,
   "metadata": {},
   "outputs": [],
   "source": [
    "## basic functionality\n",
    "import pandas as pd\n",
    "import numpy as np\n",
    "import re\n",
    "\n",
    "## can add others if you need them\n",
    "import matplotlib.pyplot as plt\n",
    "from matplotlib.dates import MonthLocator, DateFormatter\n",
    "\n",
    "## repeated printouts\n",
    "from IPython.core.interactiveshell import InteractiveShell\n",
    "InteractiveShell.ast_node_interactivity = \"all\""
   ]
  },
  {
   "cell_type": "markdown",
   "metadata": {},
   "source": [
    "## 0.1: Load the data (0 points)\n",
    "\n",
    "Load the `sentencing_asof0405.csv` data\n",
    "\n",
    "*Notes*: You may receive a warning about mixed data types upon import; feel free to ignore"
   ]
  },
  {
   "cell_type": "code",
   "execution_count": 35,
   "metadata": {},
   "outputs": [
    {
     "name": "stderr",
     "output_type": "stream",
     "text": [
      "<ipython-input-35-20de55b37101>:1: DtypeWarning: Columns (10,11,14,25) have mixed types. Specify dtype option on import or set low_memory=False.\n",
      "  df = pd.read_csv('sentencing_asof0405.csv')\n"
     ]
    }
   ],
   "source": [
    "df = pd.read_csv('sentencing_asof0405.csv')"
   ]
  },
  {
   "cell_type": "markdown",
   "metadata": {},
   "source": [
    "## 0.2: Print head, dimensions, info (0 points)"
   ]
  },
  {
   "cell_type": "code",
   "execution_count": 36,
   "metadata": {},
   "outputs": [
    {
     "data": {
      "text/html": [
       "<div>\n",
       "<style scoped>\n",
       "    .dataframe tbody tr th:only-of-type {\n",
       "        vertical-align: middle;\n",
       "    }\n",
       "\n",
       "    .dataframe tbody tr th {\n",
       "        vertical-align: top;\n",
       "    }\n",
       "\n",
       "    .dataframe thead th {\n",
       "        text-align: right;\n",
       "    }\n",
       "</style>\n",
       "<table border=\"1\" class=\"dataframe\">\n",
       "  <thead>\n",
       "    <tr style=\"text-align: right;\">\n",
       "      <th></th>\n",
       "      <th>CASE_ID</th>\n",
       "      <th>CASE_PARTICIPANT_ID</th>\n",
       "      <th>RECEIVED_DATE</th>\n",
       "      <th>OFFENSE_CATEGORY</th>\n",
       "      <th>PRIMARY_CHARGE_FLAG</th>\n",
       "      <th>CHARGE_ID</th>\n",
       "      <th>CHARGE_VERSION_ID</th>\n",
       "      <th>DISPOSITION_CHARGED_OFFENSE_TITLE</th>\n",
       "      <th>CHARGE_COUNT</th>\n",
       "      <th>DISPOSITION_DATE</th>\n",
       "      <th>...</th>\n",
       "      <th>INCIDENT_CITY</th>\n",
       "      <th>INCIDENT_BEGIN_DATE</th>\n",
       "      <th>INCIDENT_END_DATE</th>\n",
       "      <th>LAW_ENFORCEMENT_AGENCY</th>\n",
       "      <th>LAW_ENFORCEMENT_UNIT</th>\n",
       "      <th>ARREST_DATE</th>\n",
       "      <th>FELONY_REVIEW_DATE</th>\n",
       "      <th>FELONY_REVIEW_RESULT</th>\n",
       "      <th>ARRAIGNMENT_DATE</th>\n",
       "      <th>UPDATED_OFFENSE_CATEGORY</th>\n",
       "    </tr>\n",
       "  </thead>\n",
       "  <tbody>\n",
       "    <tr>\n",
       "      <th>0</th>\n",
       "      <td>149765331439</td>\n",
       "      <td>175691153649</td>\n",
       "      <td>8/15/1984 12:00:00 AM</td>\n",
       "      <td>PROMIS Conversion</td>\n",
       "      <td>False</td>\n",
       "      <td>50510112469</td>\n",
       "      <td>116304211997</td>\n",
       "      <td>FIRST DEGREE MURDER</td>\n",
       "      <td>2</td>\n",
       "      <td>12/17/2014 12:00:00 AM</td>\n",
       "      <td>...</td>\n",
       "      <td>NaN</td>\n",
       "      <td>8/9/1984 12:00:00 AM</td>\n",
       "      <td>NaN</td>\n",
       "      <td>CHICAGO POLICE DEPT</td>\n",
       "      <td>NaN</td>\n",
       "      <td>8/15/1984 12:00:00 AM</td>\n",
       "      <td>08/15/1984 12:00:00 AM</td>\n",
       "      <td>Charge(S) Approved</td>\n",
       "      <td>9/21/1984 12:00:00 AM</td>\n",
       "      <td>Homicide</td>\n",
       "    </tr>\n",
       "    <tr>\n",
       "      <th>1</th>\n",
       "      <td>149765331439</td>\n",
       "      <td>175691153649</td>\n",
       "      <td>8/15/1984 12:00:00 AM</td>\n",
       "      <td>PROMIS Conversion</td>\n",
       "      <td>False</td>\n",
       "      <td>50510213021</td>\n",
       "      <td>98265074680</td>\n",
       "      <td>HOME INVASION</td>\n",
       "      <td>14</td>\n",
       "      <td>12/17/2014 12:00:00 AM</td>\n",
       "      <td>...</td>\n",
       "      <td>NaN</td>\n",
       "      <td>8/9/1984 12:00:00 AM</td>\n",
       "      <td>NaN</td>\n",
       "      <td>CHICAGO POLICE DEPT</td>\n",
       "      <td>NaN</td>\n",
       "      <td>8/15/1984 12:00:00 AM</td>\n",
       "      <td>08/15/1984 12:00:00 AM</td>\n",
       "      <td>Charge(S) Approved</td>\n",
       "      <td>9/21/1984 12:00:00 AM</td>\n",
       "      <td>Homicide</td>\n",
       "    </tr>\n",
       "    <tr>\n",
       "      <th>2</th>\n",
       "      <td>149765331439</td>\n",
       "      <td>175691153649</td>\n",
       "      <td>8/15/1984 12:00:00 AM</td>\n",
       "      <td>PROMIS Conversion</td>\n",
       "      <td>False</td>\n",
       "      <td>50516447217</td>\n",
       "      <td>131972895911</td>\n",
       "      <td>FIRST DEGREE MURDER</td>\n",
       "      <td>4</td>\n",
       "      <td>12/17/2014 12:00:00 AM</td>\n",
       "      <td>...</td>\n",
       "      <td>NaN</td>\n",
       "      <td>8/9/1984 12:00:00 AM</td>\n",
       "      <td>NaN</td>\n",
       "      <td>CHICAGO POLICE DEPT</td>\n",
       "      <td>NaN</td>\n",
       "      <td>8/15/1984 12:00:00 AM</td>\n",
       "      <td>08/15/1984 12:00:00 AM</td>\n",
       "      <td>Charge(S) Approved</td>\n",
       "      <td>9/21/1984 12:00:00 AM</td>\n",
       "      <td>Homicide</td>\n",
       "    </tr>\n",
       "    <tr>\n",
       "      <th>3</th>\n",
       "      <td>149765331439</td>\n",
       "      <td>175691153649</td>\n",
       "      <td>8/15/1984 12:00:00 AM</td>\n",
       "      <td>PROMIS Conversion</td>\n",
       "      <td>False</td>\n",
       "      <td>50516497493</td>\n",
       "      <td>131966356472</td>\n",
       "      <td>FIRST DEGREE MURDER</td>\n",
       "      <td>5</td>\n",
       "      <td>12/17/2014 12:00:00 AM</td>\n",
       "      <td>...</td>\n",
       "      <td>NaN</td>\n",
       "      <td>8/9/1984 12:00:00 AM</td>\n",
       "      <td>NaN</td>\n",
       "      <td>CHICAGO POLICE DEPT</td>\n",
       "      <td>NaN</td>\n",
       "      <td>8/15/1984 12:00:00 AM</td>\n",
       "      <td>08/15/1984 12:00:00 AM</td>\n",
       "      <td>Charge(S) Approved</td>\n",
       "      <td>9/21/1984 12:00:00 AM</td>\n",
       "      <td>Homicide</td>\n",
       "    </tr>\n",
       "    <tr>\n",
       "      <th>4</th>\n",
       "      <td>149765331439</td>\n",
       "      <td>175691153649</td>\n",
       "      <td>8/15/1984 12:00:00 AM</td>\n",
       "      <td>PROMIS Conversion</td>\n",
       "      <td>False</td>\n",
       "      <td>50516648320</td>\n",
       "      <td>98059642859</td>\n",
       "      <td>HOME INVASION</td>\n",
       "      <td>13</td>\n",
       "      <td>12/17/2014 12:00:00 AM</td>\n",
       "      <td>...</td>\n",
       "      <td>NaN</td>\n",
       "      <td>8/9/1984 12:00:00 AM</td>\n",
       "      <td>NaN</td>\n",
       "      <td>CHICAGO POLICE DEPT</td>\n",
       "      <td>NaN</td>\n",
       "      <td>8/15/1984 12:00:00 AM</td>\n",
       "      <td>08/15/1984 12:00:00 AM</td>\n",
       "      <td>Charge(S) Approved</td>\n",
       "      <td>9/21/1984 12:00:00 AM</td>\n",
       "      <td>Homicide</td>\n",
       "    </tr>\n",
       "  </tbody>\n",
       "</table>\n",
       "<p>5 rows × 41 columns</p>\n",
       "</div>"
      ],
      "text/plain": [
       "        CASE_ID  CASE_PARTICIPANT_ID          RECEIVED_DATE  \\\n",
       "0  149765331439         175691153649  8/15/1984 12:00:00 AM   \n",
       "1  149765331439         175691153649  8/15/1984 12:00:00 AM   \n",
       "2  149765331439         175691153649  8/15/1984 12:00:00 AM   \n",
       "3  149765331439         175691153649  8/15/1984 12:00:00 AM   \n",
       "4  149765331439         175691153649  8/15/1984 12:00:00 AM   \n",
       "\n",
       "    OFFENSE_CATEGORY  PRIMARY_CHARGE_FLAG    CHARGE_ID  CHARGE_VERSION_ID  \\\n",
       "0  PROMIS Conversion                False  50510112469       116304211997   \n",
       "1  PROMIS Conversion                False  50510213021        98265074680   \n",
       "2  PROMIS Conversion                False  50516447217       131972895911   \n",
       "3  PROMIS Conversion                False  50516497493       131966356472   \n",
       "4  PROMIS Conversion                False  50516648320        98059642859   \n",
       "\n",
       "  DISPOSITION_CHARGED_OFFENSE_TITLE  CHARGE_COUNT        DISPOSITION_DATE  \\\n",
       "0               FIRST DEGREE MURDER             2  12/17/2014 12:00:00 AM   \n",
       "1                     HOME INVASION            14  12/17/2014 12:00:00 AM   \n",
       "2               FIRST DEGREE MURDER             4  12/17/2014 12:00:00 AM   \n",
       "3               FIRST DEGREE MURDER             5  12/17/2014 12:00:00 AM   \n",
       "4                     HOME INVASION            13  12/17/2014 12:00:00 AM   \n",
       "\n",
       "   ... INCIDENT_CITY   INCIDENT_BEGIN_DATE INCIDENT_END_DATE  \\\n",
       "0  ...           NaN  8/9/1984 12:00:00 AM               NaN   \n",
       "1  ...           NaN  8/9/1984 12:00:00 AM               NaN   \n",
       "2  ...           NaN  8/9/1984 12:00:00 AM               NaN   \n",
       "3  ...           NaN  8/9/1984 12:00:00 AM               NaN   \n",
       "4  ...           NaN  8/9/1984 12:00:00 AM               NaN   \n",
       "\n",
       "  LAW_ENFORCEMENT_AGENCY LAW_ENFORCEMENT_UNIT            ARREST_DATE  \\\n",
       "0    CHICAGO POLICE DEPT                  NaN  8/15/1984 12:00:00 AM   \n",
       "1    CHICAGO POLICE DEPT                  NaN  8/15/1984 12:00:00 AM   \n",
       "2    CHICAGO POLICE DEPT                  NaN  8/15/1984 12:00:00 AM   \n",
       "3    CHICAGO POLICE DEPT                  NaN  8/15/1984 12:00:00 AM   \n",
       "4    CHICAGO POLICE DEPT                  NaN  8/15/1984 12:00:00 AM   \n",
       "\n",
       "       FELONY_REVIEW_DATE FELONY_REVIEW_RESULT       ARRAIGNMENT_DATE  \\\n",
       "0  08/15/1984 12:00:00 AM   Charge(S) Approved  9/21/1984 12:00:00 AM   \n",
       "1  08/15/1984 12:00:00 AM   Charge(S) Approved  9/21/1984 12:00:00 AM   \n",
       "2  08/15/1984 12:00:00 AM   Charge(S) Approved  9/21/1984 12:00:00 AM   \n",
       "3  08/15/1984 12:00:00 AM   Charge(S) Approved  9/21/1984 12:00:00 AM   \n",
       "4  08/15/1984 12:00:00 AM   Charge(S) Approved  9/21/1984 12:00:00 AM   \n",
       "\n",
       "  UPDATED_OFFENSE_CATEGORY  \n",
       "0                 Homicide  \n",
       "1                 Homicide  \n",
       "2                 Homicide  \n",
       "3                 Homicide  \n",
       "4                 Homicide  \n",
       "\n",
       "[5 rows x 41 columns]"
      ]
     },
     "execution_count": 36,
     "metadata": {},
     "output_type": "execute_result"
    },
    {
     "data": {
      "text/plain": [
       "(248146, 41)"
      ]
     },
     "execution_count": 36,
     "metadata": {},
     "output_type": "execute_result"
    },
    {
     "name": "stdout",
     "output_type": "stream",
     "text": [
      "<class 'pandas.core.frame.DataFrame'>\n",
      "RangeIndex: 248146 entries, 0 to 248145\n",
      "Data columns (total 41 columns):\n",
      " #   Column                             Non-Null Count   Dtype  \n",
      "---  ------                             --------------   -----  \n",
      " 0   CASE_ID                            248146 non-null  int64  \n",
      " 1   CASE_PARTICIPANT_ID                248146 non-null  int64  \n",
      " 2   RECEIVED_DATE                      248146 non-null  object \n",
      " 3   OFFENSE_CATEGORY                   248146 non-null  object \n",
      " 4   PRIMARY_CHARGE_FLAG                248146 non-null  bool   \n",
      " 5   CHARGE_ID                          248146 non-null  int64  \n",
      " 6   CHARGE_VERSION_ID                  248146 non-null  int64  \n",
      " 7   DISPOSITION_CHARGED_OFFENSE_TITLE  248146 non-null  object \n",
      " 8   CHARGE_COUNT                       248146 non-null  int64  \n",
      " 9   DISPOSITION_DATE                   248146 non-null  object \n",
      " 10  DISPOSITION_CHARGED_CHAPTER        248146 non-null  object \n",
      " 11  DISPOSITION_CHARGED_ACT            242771 non-null  object \n",
      " 12  DISPOSITION_CHARGED_SECTION        242771 non-null  object \n",
      " 13  DISPOSITION_CHARGED_CLASS          248127 non-null  object \n",
      " 14  DISPOSITION_CHARGED_AOIC           248122 non-null  object \n",
      " 15  CHARGE_DISPOSITION                 248146 non-null  object \n",
      " 16  CHARGE_DISPOSITION_REASON          904 non-null     object \n",
      " 17  SENTENCE_JUDGE                     247404 non-null  object \n",
      " 18  SENTENCE_COURT_NAME                246761 non-null  object \n",
      " 19  SENTENCE_COURT_FACILITY            246216 non-null  object \n",
      " 20  SENTENCE_PHASE                     248146 non-null  object \n",
      " 21  SENTENCE_DATE                      248146 non-null  object \n",
      " 22  SENTENCE_TYPE                      248146 non-null  object \n",
      " 23  CURRENT_SENTENCE_FLAG              248146 non-null  bool   \n",
      " 24  COMMITMENT_TYPE                    246464 non-null  object \n",
      " 25  COMMITMENT_TERM                    246434 non-null  object \n",
      " 26  COMMITMENT_UNIT                    246434 non-null  object \n",
      " 27  LENGTH_OF_CASE_in_Days             229126 non-null  float64\n",
      " 28  AGE_AT_INCIDENT                    238359 non-null  float64\n",
      " 29  RACE                               246879 non-null  object \n",
      " 30  GENDER                             247337 non-null  object \n",
      " 31  INCIDENT_CITY                      228745 non-null  object \n",
      " 32  INCIDENT_BEGIN_DATE                239122 non-null  object \n",
      " 33  INCIDENT_END_DATE                  22008 non-null   object \n",
      " 34  LAW_ENFORCEMENT_AGENCY             239405 non-null  object \n",
      " 35  LAW_ENFORCEMENT_UNIT               76408 non-null   object \n",
      " 36  ARREST_DATE                        242981 non-null  object \n",
      " 37  FELONY_REVIEW_DATE                 171907 non-null  object \n",
      " 38  FELONY_REVIEW_RESULT               171907 non-null  object \n",
      " 39  ARRAIGNMENT_DATE                   229126 non-null  object \n",
      " 40  UPDATED_OFFENSE_CATEGORY           248146 non-null  object \n",
      "dtypes: bool(2), float64(2), int64(5), object(32)\n",
      "memory usage: 74.3+ MB\n"
     ]
    }
   ],
   "source": [
    "df.head()\n",
    "df.shape\n",
    "df.info()"
   ]
  },
  {
   "cell_type": "markdown",
   "metadata": {},
   "source": [
    "# Part one: data cleaning/interpretation"
   ]
  },
  {
   "cell_type": "markdown",
   "metadata": {},
   "source": [
    "## 1.1: Understanding the unit of analysis (5 points)\n",
    "\n",
    "- Print the number of unique values for the following columns. Do so in a way that avoids copying/pasting code for \n",
    "the three:\n",
    "\n",
    "    - Cases (`CASE_ID`)\n",
    "    - People in that case (`CASE_PARTICIPANT_ID`)\n",
    "    - Charges (`CHARGE_ID`)\n",
    "\n",
    "- Write a couple sentences on the following and show an example of each (e.g., a case involving multiple people):\n",
    "    \n",
    "    - Why there are more unique people than unique cases?\n",
    "    - Why there are more unique charges than unique people?\n",
    "\n",
    "- Print the mean and median number of charges per case/participant \n",
    "\n",
    "- Print the mean and median number of participants per case\n",
    "\n",
    "- Does the data seem to enable us to follow the same defendant across different cases they're charged in? Write 1 sentence in support of your conclusion.\n"
   ]
  },
  {
   "cell_type": "code",
   "execution_count": 37,
   "metadata": {},
   "outputs": [
    {
     "name": "stdout",
     "output_type": "stream",
     "text": [
      "CASE_ID                197519\n",
      "CASE_PARTICIPANT_ID    211977\n",
      "CHARGE_ID              229015\n",
      "dtype: int64\n"
     ]
    }
   ],
   "source": [
    "print(df[[\"CASE_ID\",\"CASE_PARTICIPANT_ID\",\"CHARGE_ID\"]].nunique())\n"
   ]
  },
  {
   "cell_type": "markdown",
   "metadata": {},
   "source": [
    "Why there are more unique people than unique cases? Each case can have multiple people, such as if there were two people stealing a car together. "
   ]
  },
  {
   "cell_type": "code",
   "execution_count": 38,
   "metadata": {
    "scrolled": true
   },
   "outputs": [
    {
     "data": {
      "text/plain": [
       "CASE_ID\n",
       "181880245351    124\n",
       "210642026541     92\n",
       "213788534740     74\n",
       "401360132899     59\n",
       "213254130589     57\n",
       "               ... \n",
       "399442651449      1\n",
       "399443532577      1\n",
       "399444119996      1\n",
       "399444266850      1\n",
       "445593200623      1\n",
       "Name: count, Length: 197519, dtype: int64"
      ]
     },
     "execution_count": 38,
     "metadata": {},
     "output_type": "execute_result"
    },
    {
     "data": {
      "text/plain": [
       "CASE_PARTICIPANT_ID\n",
       "179640159105    99\n",
       "179640253478    13\n",
       "180263204488    10\n",
       "179640347850     2\n",
       "Name: count, dtype: int64"
      ]
     },
     "execution_count": 38,
     "metadata": {},
     "output_type": "execute_result"
    }
   ],
   "source": [
    "#Examples of cases involving multiple people \n",
    "\n",
    "df.CASE_ID.value_counts() #Find a case that has multiple rows associated with it\n",
    "CASE_ID_181880245351 = df.loc[df['CASE_ID'] == 181880245351] #dataframe of 124 rows with this case_id \n",
    "CASE_ID_181880245351.CASE_PARTICIPANT_ID.value_counts() #List each of the participants associated with case ID 181880245351"
   ]
  },
  {
   "cell_type": "markdown",
   "metadata": {},
   "source": [
    "Why there are more unique charges than unique people? People may have more than one charge. "
   ]
  },
  {
   "cell_type": "code",
   "execution_count": 39,
   "metadata": {},
   "outputs": [
    {
     "data": {
      "text/plain": [
       "CASE_PARTICIPANT_ID\n",
       "179640159105    99\n",
       "202888754974    81\n",
       "204215911473    74\n",
       "764908059450    59\n",
       "213339345634    54\n",
       "                ..\n",
       "762800916570     1\n",
       "762801105314     1\n",
       "704484642642     1\n",
       "762801294059     1\n",
       "905535215556     1\n",
       "Name: count, Length: 211977, dtype: int64"
      ]
     },
     "execution_count": 39,
     "metadata": {},
     "output_type": "execute_result"
    },
    {
     "data": {
      "text/html": [
       "<div>\n",
       "<style scoped>\n",
       "    .dataframe tbody tr th:only-of-type {\n",
       "        vertical-align: middle;\n",
       "    }\n",
       "\n",
       "    .dataframe tbody tr th {\n",
       "        vertical-align: top;\n",
       "    }\n",
       "\n",
       "    .dataframe thead th {\n",
       "        text-align: right;\n",
       "    }\n",
       "</style>\n",
       "<table border=\"1\" class=\"dataframe\">\n",
       "  <thead>\n",
       "    <tr style=\"text-align: right;\">\n",
       "      <th></th>\n",
       "      <th>CASE_ID</th>\n",
       "      <th>CASE_PARTICIPANT_ID</th>\n",
       "      <th>RECEIVED_DATE</th>\n",
       "      <th>OFFENSE_CATEGORY</th>\n",
       "      <th>PRIMARY_CHARGE_FLAG</th>\n",
       "      <th>CHARGE_ID</th>\n",
       "      <th>CHARGE_VERSION_ID</th>\n",
       "      <th>DISPOSITION_CHARGED_OFFENSE_TITLE</th>\n",
       "      <th>CHARGE_COUNT</th>\n",
       "      <th>DISPOSITION_DATE</th>\n",
       "      <th>...</th>\n",
       "      <th>INCIDENT_CITY</th>\n",
       "      <th>INCIDENT_BEGIN_DATE</th>\n",
       "      <th>INCIDENT_END_DATE</th>\n",
       "      <th>LAW_ENFORCEMENT_AGENCY</th>\n",
       "      <th>LAW_ENFORCEMENT_UNIT</th>\n",
       "      <th>ARREST_DATE</th>\n",
       "      <th>FELONY_REVIEW_DATE</th>\n",
       "      <th>FELONY_REVIEW_RESULT</th>\n",
       "      <th>ARRAIGNMENT_DATE</th>\n",
       "      <th>UPDATED_OFFENSE_CATEGORY</th>\n",
       "    </tr>\n",
       "  </thead>\n",
       "  <tbody>\n",
       "    <tr>\n",
       "      <th>266</th>\n",
       "      <td>181880245351</td>\n",
       "      <td>179640159105</td>\n",
       "      <td>8/24/2004 12:00:00 AM</td>\n",
       "      <td>PROMIS Conversion</td>\n",
       "      <td>False</td>\n",
       "      <td>69240855975</td>\n",
       "      <td>346314890356</td>\n",
       "      <td>MURDER/OTHER FORCIBLE FELONY</td>\n",
       "      <td>2</td>\n",
       "      <td>4/16/2012 12:00:00 AM</td>\n",
       "      <td>...</td>\n",
       "      <td>NaN</td>\n",
       "      <td>7/6/2004 12:00:00 AM</td>\n",
       "      <td>7/7/2004 12:00:00 AM</td>\n",
       "      <td>ROBBINS POLICE DEPARTMENT</td>\n",
       "      <td>NaN</td>\n",
       "      <td>7/20/2004 10:00:00 PM</td>\n",
       "      <td>08/24/2004 12:00:00 AM</td>\n",
       "      <td>Charge(S) Approved</td>\n",
       "      <td>9/9/2004 12:00:00 AM</td>\n",
       "      <td>PROMIS Conversion</td>\n",
       "    </tr>\n",
       "    <tr>\n",
       "      <th>267</th>\n",
       "      <td>181880245351</td>\n",
       "      <td>179640159105</td>\n",
       "      <td>8/24/2004 12:00:00 AM</td>\n",
       "      <td>PROMIS Conversion</td>\n",
       "      <td>False</td>\n",
       "      <td>69240906251</td>\n",
       "      <td>346314329833</td>\n",
       "      <td>MURDER/OTHER FORCIBLE FELONY</td>\n",
       "      <td>3</td>\n",
       "      <td>4/16/2012 12:00:00 AM</td>\n",
       "      <td>...</td>\n",
       "      <td>NaN</td>\n",
       "      <td>7/6/2004 12:00:00 AM</td>\n",
       "      <td>7/7/2004 12:00:00 AM</td>\n",
       "      <td>ROBBINS POLICE DEPARTMENT</td>\n",
       "      <td>NaN</td>\n",
       "      <td>7/20/2004 10:00:00 PM</td>\n",
       "      <td>08/24/2004 12:00:00 AM</td>\n",
       "      <td>Charge(S) Approved</td>\n",
       "      <td>9/9/2004 12:00:00 AM</td>\n",
       "      <td>PROMIS Conversion</td>\n",
       "    </tr>\n",
       "    <tr>\n",
       "      <th>268</th>\n",
       "      <td>181880245351</td>\n",
       "      <td>179640159105</td>\n",
       "      <td>8/24/2004 12:00:00 AM</td>\n",
       "      <td>PROMIS Conversion</td>\n",
       "      <td>False</td>\n",
       "      <td>69240956527</td>\n",
       "      <td>346312741683</td>\n",
       "      <td>MURDER/OTHER FORCIBLE FELONY</td>\n",
       "      <td>4</td>\n",
       "      <td>4/16/2012 12:00:00 AM</td>\n",
       "      <td>...</td>\n",
       "      <td>NaN</td>\n",
       "      <td>7/6/2004 12:00:00 AM</td>\n",
       "      <td>7/7/2004 12:00:00 AM</td>\n",
       "      <td>ROBBINS POLICE DEPARTMENT</td>\n",
       "      <td>NaN</td>\n",
       "      <td>7/20/2004 10:00:00 PM</td>\n",
       "      <td>08/24/2004 12:00:00 AM</td>\n",
       "      <td>Charge(S) Approved</td>\n",
       "      <td>9/9/2004 12:00:00 AM</td>\n",
       "      <td>PROMIS Conversion</td>\n",
       "    </tr>\n",
       "    <tr>\n",
       "      <th>269</th>\n",
       "      <td>181880245351</td>\n",
       "      <td>179640159105</td>\n",
       "      <td>8/24/2004 12:00:00 AM</td>\n",
       "      <td>PROMIS Conversion</td>\n",
       "      <td>False</td>\n",
       "      <td>69241006802</td>\n",
       "      <td>346312835104</td>\n",
       "      <td>MURDER/OTHER FORCIBLE FELONY</td>\n",
       "      <td>5</td>\n",
       "      <td>4/16/2012 12:00:00 AM</td>\n",
       "      <td>...</td>\n",
       "      <td>NaN</td>\n",
       "      <td>7/6/2004 12:00:00 AM</td>\n",
       "      <td>7/7/2004 12:00:00 AM</td>\n",
       "      <td>ROBBINS POLICE DEPARTMENT</td>\n",
       "      <td>NaN</td>\n",
       "      <td>7/20/2004 10:00:00 PM</td>\n",
       "      <td>08/24/2004 12:00:00 AM</td>\n",
       "      <td>Charge(S) Approved</td>\n",
       "      <td>9/9/2004 12:00:00 AM</td>\n",
       "      <td>PROMIS Conversion</td>\n",
       "    </tr>\n",
       "    <tr>\n",
       "      <th>270</th>\n",
       "      <td>181880245351</td>\n",
       "      <td>179640159105</td>\n",
       "      <td>8/24/2004 12:00:00 AM</td>\n",
       "      <td>PROMIS Conversion</td>\n",
       "      <td>False</td>\n",
       "      <td>69241057078</td>\n",
       "      <td>346312928524</td>\n",
       "      <td>MURDER/OTHER FORCIBLE FELONY</td>\n",
       "      <td>6</td>\n",
       "      <td>4/16/2012 12:00:00 AM</td>\n",
       "      <td>...</td>\n",
       "      <td>NaN</td>\n",
       "      <td>7/6/2004 12:00:00 AM</td>\n",
       "      <td>7/7/2004 12:00:00 AM</td>\n",
       "      <td>ROBBINS POLICE DEPARTMENT</td>\n",
       "      <td>NaN</td>\n",
       "      <td>7/20/2004 10:00:00 PM</td>\n",
       "      <td>08/24/2004 12:00:00 AM</td>\n",
       "      <td>Charge(S) Approved</td>\n",
       "      <td>9/9/2004 12:00:00 AM</td>\n",
       "      <td>PROMIS Conversion</td>\n",
       "    </tr>\n",
       "    <tr>\n",
       "      <th>...</th>\n",
       "      <td>...</td>\n",
       "      <td>...</td>\n",
       "      <td>...</td>\n",
       "      <td>...</td>\n",
       "      <td>...</td>\n",
       "      <td>...</td>\n",
       "      <td>...</td>\n",
       "      <td>...</td>\n",
       "      <td>...</td>\n",
       "      <td>...</td>\n",
       "      <td>...</td>\n",
       "      <td>...</td>\n",
       "      <td>...</td>\n",
       "      <td>...</td>\n",
       "      <td>...</td>\n",
       "      <td>...</td>\n",
       "      <td>...</td>\n",
       "      <td>...</td>\n",
       "      <td>...</td>\n",
       "      <td>...</td>\n",
       "      <td>...</td>\n",
       "    </tr>\n",
       "    <tr>\n",
       "      <th>360</th>\n",
       "      <td>181880245351</td>\n",
       "      <td>179640159105</td>\n",
       "      <td>8/24/2004 12:00:00 AM</td>\n",
       "      <td>PROMIS Conversion</td>\n",
       "      <td>False</td>\n",
       "      <td>69390175033</td>\n",
       "      <td>145107173331</td>\n",
       "      <td>AGG KIDNAPING ARMED W/FIREARM</td>\n",
       "      <td>94</td>\n",
       "      <td>4/16/2012 12:00:00 AM</td>\n",
       "      <td>...</td>\n",
       "      <td>NaN</td>\n",
       "      <td>7/6/2004 12:00:00 AM</td>\n",
       "      <td>7/7/2004 12:00:00 AM</td>\n",
       "      <td>ROBBINS POLICE DEPARTMENT</td>\n",
       "      <td>NaN</td>\n",
       "      <td>7/20/2004 10:00:00 PM</td>\n",
       "      <td>08/24/2004 12:00:00 AM</td>\n",
       "      <td>Charge(S) Approved</td>\n",
       "      <td>9/9/2004 12:00:00 AM</td>\n",
       "      <td>PROMIS Conversion</td>\n",
       "    </tr>\n",
       "    <tr>\n",
       "      <th>361</th>\n",
       "      <td>181880245351</td>\n",
       "      <td>179640159105</td>\n",
       "      <td>8/24/2004 12:00:00 AM</td>\n",
       "      <td>PROMIS Conversion</td>\n",
       "      <td>False</td>\n",
       "      <td>69390225309</td>\n",
       "      <td>145106893070</td>\n",
       "      <td>AGG KIDNAPING ARMED W/FIREARM</td>\n",
       "      <td>95</td>\n",
       "      <td>4/16/2012 12:00:00 AM</td>\n",
       "      <td>...</td>\n",
       "      <td>NaN</td>\n",
       "      <td>7/6/2004 12:00:00 AM</td>\n",
       "      <td>7/7/2004 12:00:00 AM</td>\n",
       "      <td>ROBBINS POLICE DEPARTMENT</td>\n",
       "      <td>NaN</td>\n",
       "      <td>7/20/2004 10:00:00 PM</td>\n",
       "      <td>08/24/2004 12:00:00 AM</td>\n",
       "      <td>Charge(S) Approved</td>\n",
       "      <td>9/9/2004 12:00:00 AM</td>\n",
       "      <td>PROMIS Conversion</td>\n",
       "    </tr>\n",
       "    <tr>\n",
       "      <th>362</th>\n",
       "      <td>181880245351</td>\n",
       "      <td>179640159105</td>\n",
       "      <td>8/24/2004 12:00:00 AM</td>\n",
       "      <td>PROMIS Conversion</td>\n",
       "      <td>False</td>\n",
       "      <td>69390275585</td>\n",
       "      <td>145107453593</td>\n",
       "      <td>AGG KIDNAPING ARMED W/FIREARM</td>\n",
       "      <td>96</td>\n",
       "      <td>4/16/2012 12:00:00 AM</td>\n",
       "      <td>...</td>\n",
       "      <td>NaN</td>\n",
       "      <td>7/6/2004 12:00:00 AM</td>\n",
       "      <td>7/7/2004 12:00:00 AM</td>\n",
       "      <td>ROBBINS POLICE DEPARTMENT</td>\n",
       "      <td>NaN</td>\n",
       "      <td>7/20/2004 10:00:00 PM</td>\n",
       "      <td>08/24/2004 12:00:00 AM</td>\n",
       "      <td>Charge(S) Approved</td>\n",
       "      <td>9/9/2004 12:00:00 AM</td>\n",
       "      <td>PROMIS Conversion</td>\n",
       "    </tr>\n",
       "    <tr>\n",
       "      <th>363</th>\n",
       "      <td>181880245351</td>\n",
       "      <td>179640159105</td>\n",
       "      <td>8/24/2004 12:00:00 AM</td>\n",
       "      <td>PROMIS Conversion</td>\n",
       "      <td>False</td>\n",
       "      <td>69390325860</td>\n",
       "      <td>145107547014</td>\n",
       "      <td>AGG KIDNAPING ARMED W/FIREARM</td>\n",
       "      <td>97</td>\n",
       "      <td>4/16/2012 12:00:00 AM</td>\n",
       "      <td>...</td>\n",
       "      <td>NaN</td>\n",
       "      <td>7/6/2004 12:00:00 AM</td>\n",
       "      <td>7/7/2004 12:00:00 AM</td>\n",
       "      <td>ROBBINS POLICE DEPARTMENT</td>\n",
       "      <td>NaN</td>\n",
       "      <td>7/20/2004 10:00:00 PM</td>\n",
       "      <td>08/24/2004 12:00:00 AM</td>\n",
       "      <td>Charge(S) Approved</td>\n",
       "      <td>9/9/2004 12:00:00 AM</td>\n",
       "      <td>PROMIS Conversion</td>\n",
       "    </tr>\n",
       "    <tr>\n",
       "      <th>364</th>\n",
       "      <td>181880245351</td>\n",
       "      <td>179640159105</td>\n",
       "      <td>8/24/2004 12:00:00 AM</td>\n",
       "      <td>PROMIS Conversion</td>\n",
       "      <td>True</td>\n",
       "      <td>69240805699</td>\n",
       "      <td>346314236412</td>\n",
       "      <td>MURDER/OTHER FORCIBLE FELONY</td>\n",
       "      <td>1</td>\n",
       "      <td>4/16/2012 12:00:00 AM</td>\n",
       "      <td>...</td>\n",
       "      <td>NaN</td>\n",
       "      <td>7/6/2004 12:00:00 AM</td>\n",
       "      <td>7/7/2004 12:00:00 AM</td>\n",
       "      <td>ROBBINS POLICE DEPARTMENT</td>\n",
       "      <td>NaN</td>\n",
       "      <td>7/20/2004 10:00:00 PM</td>\n",
       "      <td>08/24/2004 12:00:00 AM</td>\n",
       "      <td>Charge(S) Approved</td>\n",
       "      <td>9/9/2004 12:00:00 AM</td>\n",
       "      <td>PROMIS Conversion</td>\n",
       "    </tr>\n",
       "  </tbody>\n",
       "</table>\n",
       "<p>99 rows × 41 columns</p>\n",
       "</div>"
      ],
      "text/plain": [
       "          CASE_ID  CASE_PARTICIPANT_ID          RECEIVED_DATE  \\\n",
       "266  181880245351         179640159105  8/24/2004 12:00:00 AM   \n",
       "267  181880245351         179640159105  8/24/2004 12:00:00 AM   \n",
       "268  181880245351         179640159105  8/24/2004 12:00:00 AM   \n",
       "269  181880245351         179640159105  8/24/2004 12:00:00 AM   \n",
       "270  181880245351         179640159105  8/24/2004 12:00:00 AM   \n",
       "..            ...                  ...                    ...   \n",
       "360  181880245351         179640159105  8/24/2004 12:00:00 AM   \n",
       "361  181880245351         179640159105  8/24/2004 12:00:00 AM   \n",
       "362  181880245351         179640159105  8/24/2004 12:00:00 AM   \n",
       "363  181880245351         179640159105  8/24/2004 12:00:00 AM   \n",
       "364  181880245351         179640159105  8/24/2004 12:00:00 AM   \n",
       "\n",
       "      OFFENSE_CATEGORY  PRIMARY_CHARGE_FLAG    CHARGE_ID  CHARGE_VERSION_ID  \\\n",
       "266  PROMIS Conversion                False  69240855975       346314890356   \n",
       "267  PROMIS Conversion                False  69240906251       346314329833   \n",
       "268  PROMIS Conversion                False  69240956527       346312741683   \n",
       "269  PROMIS Conversion                False  69241006802       346312835104   \n",
       "270  PROMIS Conversion                False  69241057078       346312928524   \n",
       "..                 ...                  ...          ...                ...   \n",
       "360  PROMIS Conversion                False  69390175033       145107173331   \n",
       "361  PROMIS Conversion                False  69390225309       145106893070   \n",
       "362  PROMIS Conversion                False  69390275585       145107453593   \n",
       "363  PROMIS Conversion                False  69390325860       145107547014   \n",
       "364  PROMIS Conversion                 True  69240805699       346314236412   \n",
       "\n",
       "    DISPOSITION_CHARGED_OFFENSE_TITLE  CHARGE_COUNT       DISPOSITION_DATE  \\\n",
       "266      MURDER/OTHER FORCIBLE FELONY             2  4/16/2012 12:00:00 AM   \n",
       "267      MURDER/OTHER FORCIBLE FELONY             3  4/16/2012 12:00:00 AM   \n",
       "268      MURDER/OTHER FORCIBLE FELONY             4  4/16/2012 12:00:00 AM   \n",
       "269      MURDER/OTHER FORCIBLE FELONY             5  4/16/2012 12:00:00 AM   \n",
       "270      MURDER/OTHER FORCIBLE FELONY             6  4/16/2012 12:00:00 AM   \n",
       "..                                ...           ...                    ...   \n",
       "360     AGG KIDNAPING ARMED W/FIREARM            94  4/16/2012 12:00:00 AM   \n",
       "361     AGG KIDNAPING ARMED W/FIREARM            95  4/16/2012 12:00:00 AM   \n",
       "362     AGG KIDNAPING ARMED W/FIREARM            96  4/16/2012 12:00:00 AM   \n",
       "363     AGG KIDNAPING ARMED W/FIREARM            97  4/16/2012 12:00:00 AM   \n",
       "364      MURDER/OTHER FORCIBLE FELONY             1  4/16/2012 12:00:00 AM   \n",
       "\n",
       "     ... INCIDENT_CITY   INCIDENT_BEGIN_DATE     INCIDENT_END_DATE  \\\n",
       "266  ...           NaN  7/6/2004 12:00:00 AM  7/7/2004 12:00:00 AM   \n",
       "267  ...           NaN  7/6/2004 12:00:00 AM  7/7/2004 12:00:00 AM   \n",
       "268  ...           NaN  7/6/2004 12:00:00 AM  7/7/2004 12:00:00 AM   \n",
       "269  ...           NaN  7/6/2004 12:00:00 AM  7/7/2004 12:00:00 AM   \n",
       "270  ...           NaN  7/6/2004 12:00:00 AM  7/7/2004 12:00:00 AM   \n",
       "..   ...           ...                   ...                   ...   \n",
       "360  ...           NaN  7/6/2004 12:00:00 AM  7/7/2004 12:00:00 AM   \n",
       "361  ...           NaN  7/6/2004 12:00:00 AM  7/7/2004 12:00:00 AM   \n",
       "362  ...           NaN  7/6/2004 12:00:00 AM  7/7/2004 12:00:00 AM   \n",
       "363  ...           NaN  7/6/2004 12:00:00 AM  7/7/2004 12:00:00 AM   \n",
       "364  ...           NaN  7/6/2004 12:00:00 AM  7/7/2004 12:00:00 AM   \n",
       "\n",
       "        LAW_ENFORCEMENT_AGENCY LAW_ENFORCEMENT_UNIT            ARREST_DATE  \\\n",
       "266  ROBBINS POLICE DEPARTMENT                  NaN  7/20/2004 10:00:00 PM   \n",
       "267  ROBBINS POLICE DEPARTMENT                  NaN  7/20/2004 10:00:00 PM   \n",
       "268  ROBBINS POLICE DEPARTMENT                  NaN  7/20/2004 10:00:00 PM   \n",
       "269  ROBBINS POLICE DEPARTMENT                  NaN  7/20/2004 10:00:00 PM   \n",
       "270  ROBBINS POLICE DEPARTMENT                  NaN  7/20/2004 10:00:00 PM   \n",
       "..                         ...                  ...                    ...   \n",
       "360  ROBBINS POLICE DEPARTMENT                  NaN  7/20/2004 10:00:00 PM   \n",
       "361  ROBBINS POLICE DEPARTMENT                  NaN  7/20/2004 10:00:00 PM   \n",
       "362  ROBBINS POLICE DEPARTMENT                  NaN  7/20/2004 10:00:00 PM   \n",
       "363  ROBBINS POLICE DEPARTMENT                  NaN  7/20/2004 10:00:00 PM   \n",
       "364  ROBBINS POLICE DEPARTMENT                  NaN  7/20/2004 10:00:00 PM   \n",
       "\n",
       "         FELONY_REVIEW_DATE FELONY_REVIEW_RESULT      ARRAIGNMENT_DATE  \\\n",
       "266  08/24/2004 12:00:00 AM   Charge(S) Approved  9/9/2004 12:00:00 AM   \n",
       "267  08/24/2004 12:00:00 AM   Charge(S) Approved  9/9/2004 12:00:00 AM   \n",
       "268  08/24/2004 12:00:00 AM   Charge(S) Approved  9/9/2004 12:00:00 AM   \n",
       "269  08/24/2004 12:00:00 AM   Charge(S) Approved  9/9/2004 12:00:00 AM   \n",
       "270  08/24/2004 12:00:00 AM   Charge(S) Approved  9/9/2004 12:00:00 AM   \n",
       "..                      ...                  ...                   ...   \n",
       "360  08/24/2004 12:00:00 AM   Charge(S) Approved  9/9/2004 12:00:00 AM   \n",
       "361  08/24/2004 12:00:00 AM   Charge(S) Approved  9/9/2004 12:00:00 AM   \n",
       "362  08/24/2004 12:00:00 AM   Charge(S) Approved  9/9/2004 12:00:00 AM   \n",
       "363  08/24/2004 12:00:00 AM   Charge(S) Approved  9/9/2004 12:00:00 AM   \n",
       "364  08/24/2004 12:00:00 AM   Charge(S) Approved  9/9/2004 12:00:00 AM   \n",
       "\n",
       "    UPDATED_OFFENSE_CATEGORY  \n",
       "266        PROMIS Conversion  \n",
       "267        PROMIS Conversion  \n",
       "268        PROMIS Conversion  \n",
       "269        PROMIS Conversion  \n",
       "270        PROMIS Conversion  \n",
       "..                       ...  \n",
       "360        PROMIS Conversion  \n",
       "361        PROMIS Conversion  \n",
       "362        PROMIS Conversion  \n",
       "363        PROMIS Conversion  \n",
       "364        PROMIS Conversion  \n",
       "\n",
       "[99 rows x 41 columns]"
      ]
     },
     "execution_count": 39,
     "metadata": {},
     "output_type": "execute_result"
    }
   ],
   "source": [
    "df.CASE_PARTICIPANT_ID.value_counts() #look for participants that come up in multiple rows\n",
    "\n",
    "#create sub dataframe that's only participant ID 179640159105\n",
    "CASE_PARTICIPANT_ID_179640159105 = df.loc[df.CASE_PARTICIPANT_ID == 179640159105] \n",
    "CASE_PARTICIPANT_ID_179640159105 #count charge IDs for a given participant ID"
   ]
  },
  {
   "cell_type": "markdown",
   "metadata": {},
   "source": [
    "Print the mean and median number of charges per case/participant. Print the mean and median number of participants per case. "
   ]
  },
  {
   "cell_type": "code",
   "execution_count": 40,
   "metadata": {},
   "outputs": [
    {
     "name": "stdout",
     "output_type": "stream",
     "text": [
      "Charges per case: \n",
      "mean      1.159458\n",
      "median    1.000000\n",
      "Name: CHARGE_ID, dtype: float64\n",
      "Charges per participant: \n",
      "mean      1.126146\n",
      "median    1.000000\n",
      "Name: CHARGE_ID, dtype: float64\n",
      "Participants per case: \n",
      "mean      1.073198\n",
      "median    1.000000\n",
      "Name: CASE_PARTICIPANT_ID, dtype: float64\n"
     ]
    }
   ],
   "source": [
    "print(\"Charges per case: \")\n",
    "print(df.groupby(\"CASE_ID\")[\"CHARGE_ID\"].nunique().agg([\"mean\",\"median\"]))\n",
    "\n",
    "print(\"Charges per participant: \")\n",
    "print(df.groupby(\"CASE_PARTICIPANT_ID\")[\"CHARGE_ID\"].nunique().agg([\"mean\",\"median\"]))\n",
    "\n",
    "print(\"Participants per case: \")\n",
    "print(df.groupby(\"CASE_ID\")[\"CASE_PARTICIPANT_ID\"].nunique().agg([\"mean\",\"median\"]))\n"
   ]
  },
  {
   "cell_type": "code",
   "execution_count": 41,
   "metadata": {},
   "outputs": [
    {
     "data": {
      "text/plain": [
       "(248146, 41)"
      ]
     },
     "execution_count": 41,
     "metadata": {},
     "output_type": "execute_result"
    }
   ],
   "source": [
    "df.shape"
   ]
  },
  {
   "cell_type": "markdown",
   "metadata": {},
   "source": [
    "Does the data seem to enable us to follow the same defendant across different cases they're charged in? Write 1 sentence in support of your conclusion."
   ]
  },
  {
   "cell_type": "markdown",
   "metadata": {},
   "source": [
    "\n",
    "No, the data does not seem to enable us to follow the same defendant across different cases because a given case_participant_id can have multiple charge_ids, and we see in the data documentation that case_participant_id = Internal unique identifier for each defendant **associated with a case**. "
   ]
  },
  {
   "cell_type": "code",
   "execution_count": null,
   "metadata": {},
   "outputs": [],
   "source": []
  },
  {
   "cell_type": "markdown",
   "metadata": {},
   "source": [
    "## 1.2.1: Which offense is final? (3 points)\n",
    "\n",
    "- First, read the data documentation [link](https://datacatalog.cookcountyil.gov/api/views/tg8v-tm6u/files/8597cdda-f7e1-44d1-b0ce-0a4e43f8c980?download=true&filename=CCSAO%20Data%20Glossary.pdf) and summarize in your own words the differences between `OFFENSE_CATEGORY` and `UPDATED_OFFENSE_CATEGORY` \n",
    "\n",
    "- Construct an indicator `is_changed_offense` that's True for case-participant-charge observations (rows) where there's a difference between the original charge (offense category) and the most current charge (updated offense category). What are some of the more common changed offenses? (can just print result of sort_values based on original offense category)\n",
    "\n",
    "- Print one example of a changed offense from one of these categories and comment on what the reason may be\n"
   ]
  },
  {
   "cell_type": "markdown",
   "metadata": {},
   "source": [
    "First, read the data documentation link and summarize in your own words the differences between OFFENSE_CATEGORY and UPDATED_OFFENSE_CATEGORY. \n",
    "\n",
    "OFFENSE_CATEGORY is determined before specific charges are filed, while UPDATED_OFFENSE_CATEGORY is based on the primary charge for the case. As a case evolves and the primary charge is filed, the case may or may not have a different UPDATED_OFFENSE_CATEGORY. "
   ]
  },
  {
   "cell_type": "markdown",
   "metadata": {},
   "source": [
    "Construct an indicator is_changed_offense that's True for case-participant-charge observations (rows) where there's a difference between the original charge (offense category) and the most current charge (updated offense category). What are some of the more common changed offenses? (can just print result of sort_values based on original offense category)"
   ]
  },
  {
   "cell_type": "code",
   "execution_count": 42,
   "metadata": {},
   "outputs": [
    {
     "data": {
      "text/plain": [
       "'DUI'"
      ]
     },
     "execution_count": 42,
     "metadata": {},
     "output_type": "execute_result"
    }
   ],
   "source": [
    "#is_changed_offense == True \n",
    "#for each row where there's a different between OFFENSE_CATEGORY and UPDATED_OFFENSE_CATEGORY\n",
    "\n",
    "df[\"is_changed_offense\"] = df[\"OFFENSE_CATEGORY\"] != df[\"UPDATED_OFFENSE_CATEGORY\"]\n",
    "changed_offenses = df.loc[df['is_changed_offense'] == True]\n",
    "changed_offenses.OFFENSE_CATEGORY.value_counts().index[1]\n"
   ]
  },
  {
   "cell_type": "markdown",
   "metadata": {},
   "source": [
    "DUIs are a common changed offense, with 3,896 instances where there was a difference between the original charge (offense category) and the most current charge (updated offense category). This may be changed due to legal negotiations, and defense attorneys might be able to modify the offense. DUI also may not be the primary charge, if an intoxicated driver also drove into a pedestrian (for example), their primary charge may be involuntary manslaughter."
   ]
  },
  {
   "cell_type": "markdown",
   "metadata": {},
   "source": [
    "## 1.2.2: Simplifying the charges (5 points)\n",
    "\n",
    "Using the field (`UPDATED_OFFENSE_CATEGORY`), create a new field, `simplified_offense_derived`, that simplifies the many offense categories into broader buckets using the following process:\n",
    "\n",
    "First, combine all offenses beginning with \"Aggravated\" into a single category without that prefix (e.g., Aggravated Battery and Battery just becomes Battery)\n",
    "\n",
    "Then:\n",
    "- Combine all offenses with arson into a single arson category (`Arson`)\n",
    "- Combine all offenses with homicide into a single homicide category (`Homicide`)\n",
    "- Combine all offenses with vehicle/vehicular in the name into a single vehicle category (`Vehicle-related`)\n",
    "- Combine all offenses with battery in the name into a single battery category (`Battery`)\n",
    "\n",
    "Try to do so efficiently (e.g., using map and a dictionary or np.select rather than separate line for each recoded offense)\n",
    "\n",
    "Print the difference between the # of unique offenses in the original `UPDATED_OFFENSE_CATEGORY` field and the # of unique offenses in your new `simplified_offense_derived` field\n"
   ]
  },
  {
   "cell_type": "code",
   "execution_count": 43,
   "metadata": {},
   "outputs": [
    {
     "name": "stdout",
     "output_type": "stream",
     "text": [
      "11\n"
     ]
    }
   ],
   "source": [
    "df['simplified_offense_derived'] = df.UPDATED_OFFENSE_CATEGORY.str.replace(\"Aggravated \",\"\")\n",
    "\n",
    "conditions = [df.simplified_offense_derived.str.contains(x) for x in [\"Arson\", \"Homicide\",\"Vehic\",\"Battery\"]]\n",
    "categories = [\"Arson\", \"Homicide\", \"Vehicle-related\", \"Battery\"]\n",
    "\n",
    "df.simplified_offense_derived = np.select(conditions, categories, default=df.UPDATED_OFFENSE_CATEGORY)\n",
    "print(df.UPDATED_OFFENSE_CATEGORY.nunique()- df.simplified_offense_derived.nunique())"
   ]
  },
  {
   "cell_type": "markdown",
   "metadata": {},
   "source": [
    "## 1.3: Cleaning additional variables (10 points)\n",
    "\n",
    "Clean the following variables; make sure to retain the original variable in data and use the derived suffix so it's easier to pull these cleaned out variables later (e.g., `age_derived`) to indicate this was a transformation\n",
    "\n",
    "- Race: create True/false indicators for `is_black_derived` (Black only or mixed race with hispanic), Non-Black Hispanic, so either hispanic alone or white hispanic (`is_hisp_derived`), White non-hispanic (`is_white_derived`), or none of the above (`is_othereth_derived`)\n",
    "\n",
    "- Gender: create a boolean true/false indicator for `is_male_derived` (false is female, unknown, or other)\n",
    "\n",
    "- Age at incident: you notice outliers like 130-year olds. Winsorsize the top 0.01% of values to be equal to the 99.99th percentile value pre-winsorization. Call this `age_derived`\n",
    "\n",
    "- Create `sentenceymd_derived` that's a version of `SENTENCING_DATE` converted to datetime format. Also create a rounded version, `sentenceym_derived`, that's rounded down to the first of the month and the year (e.g., 01-05-2016 and 01-27-2016 each become 01-01-2016)\n",
    "    - Hint: all timestamps are midnight so u can strip in conversion. For full credit, before converting, you notice that some of the years have been mistranscribed (e.g., 291X or 221X instead of 201X). Programatically fix those (eg 2914 -> 2014). Even after cleaning, there will still be some that are after the year 2021 that we'll filter out later. For partial credit, you can ignore the timestamps that cause errors and set errors = \"coerce\" within `pd.to_datetime()` to allow the conversion to proceed. \n",
    "\n",
    "- Sentencing judge: create an identifier (`judgeid_derived`) for each unique judge (`SENTENCE_JUDGE`) structured as judge_1, judge_2...., with the order determined by sorting the judges (will sort on fname then last). When finding unique judges, there are various duplicates we could weed out --- for now, just focus on (1) the different iterations of Doug/Douglas Simpson, (2) the different iterations of Shelley Sutker (who appears both with her maiden name and her hyphenated married name). \n",
    "     - Hint: due to mixed types, you may need to cast the `SENTENCE_JUDGE` var to a diff type to sort\n",
    "\n",
    "After finishing, print a random sample of 10 rows (data.sample(n = 10)) with the original and cleaned columns for the relevant variables to validate your work"
   ]
  },
  {
   "cell_type": "code",
   "execution_count": 44,
   "metadata": {},
   "outputs": [],
   "source": [
    "#Clean race\n",
    "df['is_black_derived'] = df.RACE.isin(['Black','White/Black [Hispanic or Latino]']).fillna(False)\n",
    "df['is_hisp_derived'] = df.RACE.isin(['White [Hispanic or Latino]','HISPANIC']).fillna(False)\n",
    "df['is_white_derived'] = df.RACE.isin(['White']).fillna(False)\n",
    "df['is_othereth_derived'] = ~ (df.is_black_derived | df.is_hisp_derived | df.is_white_derived).fillna(False)"
   ]
  },
  {
   "cell_type": "code",
   "execution_count": 45,
   "metadata": {},
   "outputs": [],
   "source": [
    "#Clean gender: create a boolean true/false indicator for is_male_derived (false is female, unknown, or other)\n",
    "df[\"is_male_derived\"] = df.GENDER.fillna(False) == \"Male\"                                                    "
   ]
  },
  {
   "cell_type": "code",
   "execution_count": 46,
   "metadata": {},
   "outputs": [],
   "source": [
    "#Clean age\n",
    "percentile_9999 = np.percentile(df.AGE_AT_INCIDENT.dropna(), 99.99)\n",
    "df['age_derived'] = df['AGE_AT_INCIDENT']\n",
    "df.loc[df.AGE_AT_INCIDENT > percentile_9999, 'age_derived'] = percentile_9999"
   ]
  },
  {
   "cell_type": "markdown",
   "metadata": {},
   "source": [
    "Create sentenceymd_derived that's a version of SENTENCING_DATE converted to datetime format.\n",
    "\n",
    "Also create a rounded version, sentenceym_derived,  that's rounded down to the first of the month and the year \n",
    "(e.g., 01-05-2016 and 01-27-2016 each become 01-01-2016)\n",
    "\n",
    "Hint: all timestamps are midnight so u can strip in conversion. For full credit, before converting, you notice that some of the years have been mistranscribed (e.g., 291X or 221X instead of 201X). Programatically fix those (eg 2914 -> 2014). Even after cleaning, there will still be some that are after the year 2021 that we'll filter out later. For partial credit, you can ignore the timestamps that cause errors and set errors = \"coerce\" within pd.to_datetime() to allow the conversion to proceed."
   ]
  },
  {
   "cell_type": "code",
   "execution_count": 47,
   "metadata": {},
   "outputs": [],
   "source": [
    "#Clean date\n",
    "parts = df.SENTENCE_DATE.str.split('/', expand=True)\n",
    "year_str = parts[2].str[:4]\n",
    "\n",
    "year_int = year_str.astype(int)\n",
    "\n",
    "#Retranscribe the wrong dates (eg. 2914, 2029)\n",
    "year_str[(year_int >= 2100)] = \"20\" + year_str[(year_int >= 2100)].str[2:]\n",
    "year_str[(year_int > 2021) & (year_int < 2100)] = \"200\" + year_str[(year_int > 2021) & (year_int < 2100)].str[3:]\n",
    "\n",
    "df.SENTENCE_DATE = parts[0] + \"/\" + parts[1].str[:2] + \"/\" + year_str + \" 12:00:00 AM\"\n",
    "\n",
    "df[\"sentenceymd_derived\"] = pd.to_datetime(df.SENTENCE_DATE, format = \"%m/%d/%Y %I:%M:%S %p\")\n",
    "df[\"sentenceym_derived\"] = df.sentenceymd_derived.dt.to_period(\"M\").dt.to_timestamp()"
   ]
  },
  {
   "cell_type": "markdown",
   "metadata": {},
   "source": [
    "Sentencing judge: create an identifier (judgeid_derived) for each unique judge (SENTENCE_JUDGE) structured as judge_1, judge_2...., with the order determined by sorting the judges (will sort on fname then last). When finding unique judges, there are various duplicates we could weed out --- for now, just focus on (1) the different iterations of Doug/Douglas Simpson, (2) the different iterations of Shelley Sutker (who appears both with her maiden name and her hyphenated married name).\n",
    "\n",
    "Hint: due to mixed types, you may need to cast the SENTENCE_JUDGE var to a diff type to sort"
   ]
  },
  {
   "cell_type": "code",
   "execution_count": 48,
   "metadata": {},
   "outputs": [],
   "source": [
    "#Clean judge\n",
    "df.SENTENCE_JUDGE = df['SENTENCE_JUDGE'].astype(str)\n",
    "df['SENTENCE_JUDGE'] = df['SENTENCE_JUDGE'].apply(lambda x: \"Shelley Sutker-Dermer\" if ~pd.isna(x) and \"Shelley\" in x and \"Sutker\" in x else x)\n",
    "df['SENTENCE_JUDGE'] = df['SENTENCE_JUDGE'].apply(lambda x: \"Douglas J Simpson\" if ~pd.isna(x) and \"Doug\" in x and \"Simpson\" in x else x)\n",
    "\n",
    "df[\"judgeid_derived\"] = df.SENTENCE_JUDGE.astype(str)\n",
    "\n",
    "unique_judges = sorted(df.judgeid_derived.unique())\n",
    "judgeid = [\"judge_\" + str(i + 1) for i in range(len(unique_judges))]\n",
    "\n",
    "judgeid_mapping = dict(zip(unique_judges, judgeid))\n",
    "\n",
    "df.judgeid_derived = df.judgeid_derived.map(judgeid_mapping)"
   ]
  },
  {
   "cell_type": "markdown",
   "metadata": {},
   "source": [
    "After finishing, print a random sample of 10 rows (data.sample(n = 10)) with the original and cleaned columns for the relevant variables to validate your work"
   ]
  },
  {
   "cell_type": "code",
   "execution_count": 49,
   "metadata": {},
   "outputs": [
    {
     "data": {
      "text/html": [
       "<div>\n",
       "<style scoped>\n",
       "    .dataframe tbody tr th:only-of-type {\n",
       "        vertical-align: middle;\n",
       "    }\n",
       "\n",
       "    .dataframe tbody tr th {\n",
       "        vertical-align: top;\n",
       "    }\n",
       "\n",
       "    .dataframe thead th {\n",
       "        text-align: right;\n",
       "    }\n",
       "</style>\n",
       "<table border=\"1\" class=\"dataframe\">\n",
       "  <thead>\n",
       "    <tr style=\"text-align: right;\">\n",
       "      <th></th>\n",
       "      <th>RACE</th>\n",
       "      <th>is_black_derived</th>\n",
       "      <th>is_hisp_derived</th>\n",
       "      <th>is_white_derived</th>\n",
       "      <th>is_othereth_derived</th>\n",
       "      <th>GENDER</th>\n",
       "      <th>is_male_derived</th>\n",
       "      <th>AGE_AT_INCIDENT</th>\n",
       "      <th>age_derived</th>\n",
       "      <th>SENTENCE_DATE</th>\n",
       "      <th>sentenceymd_derived</th>\n",
       "      <th>sentenceym_derived</th>\n",
       "      <th>SENTENCE_JUDGE</th>\n",
       "      <th>judgeid_derived</th>\n",
       "    </tr>\n",
       "  </thead>\n",
       "  <tbody>\n",
       "    <tr>\n",
       "      <th>80658</th>\n",
       "      <td>Black</td>\n",
       "      <td>True</td>\n",
       "      <td>False</td>\n",
       "      <td>False</td>\n",
       "      <td>False</td>\n",
       "      <td>Male</td>\n",
       "      <td>True</td>\n",
       "      <td>54.0</td>\n",
       "      <td>54.0</td>\n",
       "      <td>4/18/2013 12:00:00 AM</td>\n",
       "      <td>2013-04-18</td>\n",
       "      <td>2013-04-01</td>\n",
       "      <td>Neil J Linehan</td>\n",
       "      <td>judge_235</td>\n",
       "    </tr>\n",
       "    <tr>\n",
       "      <th>65472</th>\n",
       "      <td>White [Hispanic or Latino]</td>\n",
       "      <td>False</td>\n",
       "      <td>True</td>\n",
       "      <td>False</td>\n",
       "      <td>False</td>\n",
       "      <td>Female</td>\n",
       "      <td>False</td>\n",
       "      <td>35.0</td>\n",
       "      <td>35.0</td>\n",
       "      <td>9/7/2012 12:00:00 AM</td>\n",
       "      <td>2012-09-07</td>\n",
       "      <td>2012-09-01</td>\n",
       "      <td>Lawrence Edward Flood</td>\n",
       "      <td>judge_179</td>\n",
       "    </tr>\n",
       "    <tr>\n",
       "      <th>243009</th>\n",
       "      <td>Black</td>\n",
       "      <td>True</td>\n",
       "      <td>False</td>\n",
       "      <td>False</td>\n",
       "      <td>False</td>\n",
       "      <td>Male</td>\n",
       "      <td>True</td>\n",
       "      <td>29.0</td>\n",
       "      <td>29.0</td>\n",
       "      <td>12/11/2019 12:00:00 AM</td>\n",
       "      <td>2019-12-11</td>\n",
       "      <td>2019-12-01</td>\n",
       "      <td>Geraldine A D'Souza</td>\n",
       "      <td>judge_93</td>\n",
       "    </tr>\n",
       "    <tr>\n",
       "      <th>236962</th>\n",
       "      <td>Black</td>\n",
       "      <td>True</td>\n",
       "      <td>False</td>\n",
       "      <td>False</td>\n",
       "      <td>False</td>\n",
       "      <td>Male</td>\n",
       "      <td>True</td>\n",
       "      <td>31.0</td>\n",
       "      <td>31.0</td>\n",
       "      <td>7/17/2019 12:00:00 AM</td>\n",
       "      <td>2019-07-17</td>\n",
       "      <td>2019-07-01</td>\n",
       "      <td>Catherine Marie Haberkorn</td>\n",
       "      <td>judge_36</td>\n",
       "    </tr>\n",
       "    <tr>\n",
       "      <th>54711</th>\n",
       "      <td>Black</td>\n",
       "      <td>True</td>\n",
       "      <td>False</td>\n",
       "      <td>False</td>\n",
       "      <td>False</td>\n",
       "      <td>Male</td>\n",
       "      <td>True</td>\n",
       "      <td>20.0</td>\n",
       "      <td>20.0</td>\n",
       "      <td>4/24/2012 12:00:00 AM</td>\n",
       "      <td>2012-04-24</td>\n",
       "      <td>2012-04-01</td>\n",
       "      <td>Raymond  Myles</td>\n",
       "      <td>judge_256</td>\n",
       "    </tr>\n",
       "    <tr>\n",
       "      <th>89040</th>\n",
       "      <td>Black</td>\n",
       "      <td>True</td>\n",
       "      <td>False</td>\n",
       "      <td>False</td>\n",
       "      <td>False</td>\n",
       "      <td>Male</td>\n",
       "      <td>True</td>\n",
       "      <td>53.0</td>\n",
       "      <td>53.0</td>\n",
       "      <td>12/5/2013 12:00:00 AM</td>\n",
       "      <td>2013-12-05</td>\n",
       "      <td>2013-12-01</td>\n",
       "      <td>Larry G Axelrood</td>\n",
       "      <td>judge_175</td>\n",
       "    </tr>\n",
       "    <tr>\n",
       "      <th>197488</th>\n",
       "      <td>Black</td>\n",
       "      <td>True</td>\n",
       "      <td>False</td>\n",
       "      <td>False</td>\n",
       "      <td>False</td>\n",
       "      <td>Male</td>\n",
       "      <td>True</td>\n",
       "      <td>28.0</td>\n",
       "      <td>28.0</td>\n",
       "      <td>6/23/2017 12:00:00 AM</td>\n",
       "      <td>2017-06-23</td>\n",
       "      <td>2017-06-01</td>\n",
       "      <td>Alfredo  Maldonado</td>\n",
       "      <td>judge_5</td>\n",
       "    </tr>\n",
       "    <tr>\n",
       "      <th>237568</th>\n",
       "      <td>White [Hispanic or Latino]</td>\n",
       "      <td>False</td>\n",
       "      <td>True</td>\n",
       "      <td>False</td>\n",
       "      <td>False</td>\n",
       "      <td>Female</td>\n",
       "      <td>False</td>\n",
       "      <td>19.0</td>\n",
       "      <td>19.0</td>\n",
       "      <td>12/14/2020 12:00:00 AM</td>\n",
       "      <td>2020-12-14</td>\n",
       "      <td>2020-12-01</td>\n",
       "      <td>Timothy J Chambers</td>\n",
       "      <td>judge_314</td>\n",
       "    </tr>\n",
       "    <tr>\n",
       "      <th>169394</th>\n",
       "      <td>Black</td>\n",
       "      <td>True</td>\n",
       "      <td>False</td>\n",
       "      <td>False</td>\n",
       "      <td>False</td>\n",
       "      <td>Male</td>\n",
       "      <td>True</td>\n",
       "      <td>23.0</td>\n",
       "      <td>23.0</td>\n",
       "      <td>5/9/2016 12:00:00 AM</td>\n",
       "      <td>2016-05-09</td>\n",
       "      <td>2016-05-01</td>\n",
       "      <td>Allen F Murphy</td>\n",
       "      <td>judge_6</td>\n",
       "    </tr>\n",
       "    <tr>\n",
       "      <th>7155</th>\n",
       "      <td>Black</td>\n",
       "      <td>True</td>\n",
       "      <td>False</td>\n",
       "      <td>False</td>\n",
       "      <td>False</td>\n",
       "      <td>Male</td>\n",
       "      <td>True</td>\n",
       "      <td>17.0</td>\n",
       "      <td>17.0</td>\n",
       "      <td>5/11/2011 12:00:00 AM</td>\n",
       "      <td>2011-05-11</td>\n",
       "      <td>2011-05-01</td>\n",
       "      <td>Luciano  Panici</td>\n",
       "      <td>judge_189</td>\n",
       "    </tr>\n",
       "  </tbody>\n",
       "</table>\n",
       "</div>"
      ],
      "text/plain": [
       "                              RACE  is_black_derived  is_hisp_derived  \\\n",
       "80658                        Black              True            False   \n",
       "65472   White [Hispanic or Latino]             False             True   \n",
       "243009                       Black              True            False   \n",
       "236962                       Black              True            False   \n",
       "54711                        Black              True            False   \n",
       "89040                        Black              True            False   \n",
       "197488                       Black              True            False   \n",
       "237568  White [Hispanic or Latino]             False             True   \n",
       "169394                       Black              True            False   \n",
       "7155                         Black              True            False   \n",
       "\n",
       "        is_white_derived  is_othereth_derived  GENDER  is_male_derived  \\\n",
       "80658              False                False    Male             True   \n",
       "65472              False                False  Female            False   \n",
       "243009             False                False    Male             True   \n",
       "236962             False                False    Male             True   \n",
       "54711              False                False    Male             True   \n",
       "89040              False                False    Male             True   \n",
       "197488             False                False    Male             True   \n",
       "237568             False                False  Female            False   \n",
       "169394             False                False    Male             True   \n",
       "7155               False                False    Male             True   \n",
       "\n",
       "        AGE_AT_INCIDENT  age_derived           SENTENCE_DATE  \\\n",
       "80658              54.0         54.0   4/18/2013 12:00:00 AM   \n",
       "65472              35.0         35.0    9/7/2012 12:00:00 AM   \n",
       "243009             29.0         29.0  12/11/2019 12:00:00 AM   \n",
       "236962             31.0         31.0   7/17/2019 12:00:00 AM   \n",
       "54711              20.0         20.0   4/24/2012 12:00:00 AM   \n",
       "89040              53.0         53.0   12/5/2013 12:00:00 AM   \n",
       "197488             28.0         28.0   6/23/2017 12:00:00 AM   \n",
       "237568             19.0         19.0  12/14/2020 12:00:00 AM   \n",
       "169394             23.0         23.0    5/9/2016 12:00:00 AM   \n",
       "7155               17.0         17.0   5/11/2011 12:00:00 AM   \n",
       "\n",
       "       sentenceymd_derived sentenceym_derived             SENTENCE_JUDGE  \\\n",
       "80658           2013-04-18         2013-04-01             Neil J Linehan   \n",
       "65472           2012-09-07         2012-09-01      Lawrence Edward Flood   \n",
       "243009          2019-12-11         2019-12-01        Geraldine A D'Souza   \n",
       "236962          2019-07-17         2019-07-01  Catherine Marie Haberkorn   \n",
       "54711           2012-04-24         2012-04-01             Raymond  Myles   \n",
       "89040           2013-12-05         2013-12-01           Larry G Axelrood   \n",
       "197488          2017-06-23         2017-06-01         Alfredo  Maldonado   \n",
       "237568          2020-12-14         2020-12-01         Timothy J Chambers   \n",
       "169394          2016-05-09         2016-05-01             Allen F Murphy   \n",
       "7155            2011-05-11         2011-05-01            Luciano  Panici   \n",
       "\n",
       "       judgeid_derived  \n",
       "80658        judge_235  \n",
       "65472        judge_179  \n",
       "243009        judge_93  \n",
       "236962        judge_36  \n",
       "54711        judge_256  \n",
       "89040        judge_175  \n",
       "197488         judge_5  \n",
       "237568       judge_314  \n",
       "169394         judge_6  \n",
       "7155         judge_189  "
      ]
     },
     "execution_count": 49,
     "metadata": {},
     "output_type": "execute_result"
    }
   ],
   "source": [
    "# check\n",
    "df[[\"RACE\", \"is_black_derived\", \"is_hisp_derived\", \"is_white_derived\", \"is_othereth_derived\",\n",
    "    \"GENDER\", \"is_male_derived\",\n",
    "    \"AGE_AT_INCIDENT\", \"age_derived\",\n",
    "    \"SENTENCE_DATE\", \"sentenceymd_derived\", \"sentenceym_derived\",\n",
    "    \"SENTENCE_JUDGE\", \"judgeid_derived\"]].sample(n = 10)"
   ]
  },
  {
   "cell_type": "markdown",
   "metadata": {},
   "source": [
    "## 1.4: Subsetting rows to analytic dataset (5 points)\n",
    "\n",
    "You decide based on the above to simplify things in the following ways:\n",
    "    \n",
    "- Subset to cases where only one participant is charged, since cases with >1 participant might have complications like \n",
    "plea bargains/informing from other participants affecting the sentencing of the focal participant\n",
    "\n",
    "- To go from a participant-case level dataset, where each participant is repeated across charges tied to the case, to a participant-level dataset, where each participant has one charge, subset to a participant's primary charge and their current sentence (`PRIMARY_CHARGE_FLAG` is True and `CURRENT_SENTENCE_FLAG` is True). Double check that this worked by confirming there are no longer multiple charges for the same case-participant\n",
    "\n",
    "- Filter out observations where judge is nan or nonsensical (indicated by is.null or equal to FLOOD)\n",
    "\n",
    "- Subset to sentencing date between 01-01-2012 and 04-05-2021 (inclusive)\n",
    "\n",
    "After completing these steps, print the number of rows in the data"
   ]
  },
  {
   "cell_type": "code",
   "execution_count": 50,
   "metadata": {},
   "outputs": [
    {
     "name": "stdout",
     "output_type": "stream",
     "text": [
      "True\n",
      "135606\n"
     ]
    }
   ],
   "source": [
    "# subset to cases with one participant\n",
    "participants_per_case = df.groupby(\"CASE_ID\")[\"CASE_PARTICIPANT_ID\"].nunique()\n",
    "\n",
    "df = df[df.CASE_ID.isin(participants_per_case[participants_per_case == 1].index)]\n",
    "\n",
    "# subset to a participant-level dataset\n",
    "df = df[(df.PRIMARY_CHARGE_FLAG == True) & (df.CURRENT_SENTENCE_FLAG == True)]\n",
    "\n",
    "print(df.groupby([\"CASE_ID\", \"CASE_PARTICIPANT_ID\"]).size().max() <= 1) # only one charge per participant if true\n",
    "\n",
    "# filter out invalid judges\n",
    "df = df[~ df.SENTENCE_JUDGE.isnull() & (df.SENTENCE_JUDGE != \"FLOOD\")] #not null and not equal to \"FLOOD\"\n",
    "\n",
    "# subset sentencing date\n",
    "df = df[(df.sentenceymd_derived >= \"2012-01-01\") & (df.sentenceymd_derived <= \"2021-04-05\")]\n",
    "\n",
    "print(len(df))"
   ]
  },
  {
   "cell_type": "markdown",
   "metadata": {},
   "source": [
    "# Part two: investigating Black vs. White sentencing disparities\n",
    "\n",
    "Now that the data are cleaned, we're going to investigate different types of disparities in sentencing between Black defendants and White defendants. We're focusing on these groups for the purpose of the problem set, but the analysis could be extended to study Hispanic defendants or, in a different jurisdiction, Asian and other minoritized groups.\n",
    "\n",
    "**Details if interested in digging deeper**: If interested (optional), you can read more technical coverage of how we might (1) measure disparities, and (2) what factors you want to adjust for when deciding whether two defendants are 'similarly situated' but for their race in the following sources:\n",
    "\n",
    "- [Review of sentencing disparities research](https://www.journals.uchicago.edu/doi/full/10.1086/701505)\n",
    "- [Discussion of causal model/blinding race at charging stage of the prosecutorial process](https://5harad.com/papers/blind-charging.pdf)\n",
    "- [Discussion of measuring discrimination in policing that can generalize to the sentencing case](https://www.annualreviews.org/doi/abs/10.1146/annurev-criminol-011518-024731)\n",
    "- [General discussion of causal challenges in measuring between-group disparities](https://osf.io/preprints/socarxiv/gx4y3/)\n",
    "\n",
    "**One major caveat**: when investigating whether two similar defendants received different sentences, we're missing one important attribute that influences sentencing: the defendant's criminal history. This influences sentencing both through sentencing guidelines, which can prescribe longer sentences for those who have certain types of prior convictions, and through judicial discretion if judges are more lenient with first-time defendants. The above sources discuss how much we want to \"control away\" for this prior history, since if we think there are racial biases in which defendants, conditional on *committing* a crime, are arrested and charged, we may not want to adjust for that factor. More discussion [in this article](https://www.themarshallproject.org/2019/12/03/the-growing-racial-disparity-in-prison-time)\n"
   ]
  },
  {
   "cell_type": "markdown",
   "metadata": {},
   "source": [
    "## 2.0: (0 points)"
   ]
  },
  {
   "cell_type": "markdown",
   "metadata": {},
   "source": [
    "First, read in the following dataset (regardless of progress on part one): `sentencing_cleaned.pkl` (if you can't read in the pkl you can read in the .csv format but may need to recast some of the datetime columns)\n",
    "\n",
    "*Note*: don't worry if there are slight differences in your output from Part One and this dataset/it's not a good use of time to try to reverse engineer Part One answers from this cleaned data."
   ]
  },
  {
   "cell_type": "code",
   "execution_count": 51,
   "metadata": {},
   "outputs": [],
   "source": [
    "df_c = pd.read_pickle('sentencing_cleaned.pkl')"
   ]
  },
  {
   "cell_type": "markdown",
   "metadata": {},
   "source": [
    "## 2.1: Investigating one type of between-group difference: who reaches the sentencing stage? (5 points)\n",
    "\n",
    "Tabulate and visualize the proportion of defendants, out of all defendants sentenced in a given month/year, who are Black and who are White (separate proportions)\n",
    "\n",
    "- Denominator is number of unique cases that month\n",
    "- Numerator for black defendants is count of is_black_derived\n",
    "- Numerator for white defendants is count of is_white_derived\n",
    "- Fraction of each is numerator/denominator\n",
    "\n",
    "- Print the table\n",
    "- Create a graph with two lines--- one for Black defendants as fraction of total; another for White defendants. Make sure it includes a legend summarizing which color is for which group, and clean the legend so that it has informative names (e.g., Black or White rather than prop_black or prop_white)\n",
    "- Use mathematical notation to write out each of the proportions using summation notation in a 1-2 sentence writeup describing trends. What seems to be going on in April and May 2020? \n",
    "\n",
    "**Optional challenge**: improve the viz by shading the background of the visualization for months with fewer than 100 cases \n",
    "\n",
    "**Optional challenge**: improve the viz by adding a vertical line for 12-01-2016, the month that new State's Attorney Foxx took office "
   ]
  },
  {
   "cell_type": "code",
   "execution_count": 52,
   "metadata": {},
   "outputs": [
    {
     "data": {
      "text/html": [
       "<div>\n",
       "<style scoped>\n",
       "    .dataframe tbody tr th:only-of-type {\n",
       "        vertical-align: middle;\n",
       "    }\n",
       "\n",
       "    .dataframe tbody tr th {\n",
       "        vertical-align: top;\n",
       "    }\n",
       "\n",
       "    .dataframe thead th {\n",
       "        text-align: right;\n",
       "    }\n",
       "</style>\n",
       "<table border=\"1\" class=\"dataframe\">\n",
       "  <thead>\n",
       "    <tr style=\"text-align: right;\">\n",
       "      <th></th>\n",
       "      <th>unique_cases</th>\n",
       "      <th>black_def</th>\n",
       "      <th>white_def</th>\n",
       "      <th>black_prop</th>\n",
       "      <th>white_prop</th>\n",
       "    </tr>\n",
       "    <tr>\n",
       "      <th>sentenceym_derived</th>\n",
       "      <th></th>\n",
       "      <th></th>\n",
       "      <th></th>\n",
       "      <th></th>\n",
       "      <th></th>\n",
       "    </tr>\n",
       "  </thead>\n",
       "  <tbody>\n",
       "    <tr>\n",
       "      <th>2012-01-01</th>\n",
       "      <td>1674</td>\n",
       "      <td>1134</td>\n",
       "      <td>242</td>\n",
       "      <td>0.677419</td>\n",
       "      <td>0.144564</td>\n",
       "    </tr>\n",
       "    <tr>\n",
       "      <th>2012-02-01</th>\n",
       "      <td>1450</td>\n",
       "      <td>941</td>\n",
       "      <td>233</td>\n",
       "      <td>0.648966</td>\n",
       "      <td>0.160690</td>\n",
       "    </tr>\n",
       "    <tr>\n",
       "      <th>2012-03-01</th>\n",
       "      <td>1612</td>\n",
       "      <td>1030</td>\n",
       "      <td>255</td>\n",
       "      <td>0.638958</td>\n",
       "      <td>0.158189</td>\n",
       "    </tr>\n",
       "    <tr>\n",
       "      <th>2012-04-01</th>\n",
       "      <td>1436</td>\n",
       "      <td>1000</td>\n",
       "      <td>211</td>\n",
       "      <td>0.696379</td>\n",
       "      <td>0.146936</td>\n",
       "    </tr>\n",
       "    <tr>\n",
       "      <th>2012-05-01</th>\n",
       "      <td>1545</td>\n",
       "      <td>1074</td>\n",
       "      <td>223</td>\n",
       "      <td>0.695146</td>\n",
       "      <td>0.144337</td>\n",
       "    </tr>\n",
       "    <tr>\n",
       "      <th>...</th>\n",
       "      <td>...</td>\n",
       "      <td>...</td>\n",
       "      <td>...</td>\n",
       "      <td>...</td>\n",
       "      <td>...</td>\n",
       "    </tr>\n",
       "    <tr>\n",
       "      <th>2020-11-01</th>\n",
       "      <td>491</td>\n",
       "      <td>298</td>\n",
       "      <td>76</td>\n",
       "      <td>0.606925</td>\n",
       "      <td>0.154786</td>\n",
       "    </tr>\n",
       "    <tr>\n",
       "      <th>2020-12-01</th>\n",
       "      <td>537</td>\n",
       "      <td>347</td>\n",
       "      <td>85</td>\n",
       "      <td>0.646182</td>\n",
       "      <td>0.158287</td>\n",
       "    </tr>\n",
       "    <tr>\n",
       "      <th>2021-01-01</th>\n",
       "      <td>447</td>\n",
       "      <td>278</td>\n",
       "      <td>50</td>\n",
       "      <td>0.621924</td>\n",
       "      <td>0.111857</td>\n",
       "    </tr>\n",
       "    <tr>\n",
       "      <th>2021-02-01</th>\n",
       "      <td>491</td>\n",
       "      <td>320</td>\n",
       "      <td>66</td>\n",
       "      <td>0.651731</td>\n",
       "      <td>0.134420</td>\n",
       "    </tr>\n",
       "    <tr>\n",
       "      <th>2021-03-01</th>\n",
       "      <td>532</td>\n",
       "      <td>362</td>\n",
       "      <td>79</td>\n",
       "      <td>0.680451</td>\n",
       "      <td>0.148496</td>\n",
       "    </tr>\n",
       "  </tbody>\n",
       "</table>\n",
       "<p>111 rows × 5 columns</p>\n",
       "</div>"
      ],
      "text/plain": [
       "                    unique_cases  black_def  white_def  black_prop  white_prop\n",
       "sentenceym_derived                                                            \n",
       "2012-01-01                  1674       1134        242    0.677419    0.144564\n",
       "2012-02-01                  1450        941        233    0.648966    0.160690\n",
       "2012-03-01                  1612       1030        255    0.638958    0.158189\n",
       "2012-04-01                  1436       1000        211    0.696379    0.146936\n",
       "2012-05-01                  1545       1074        223    0.695146    0.144337\n",
       "...                          ...        ...        ...         ...         ...\n",
       "2020-11-01                   491        298         76    0.606925    0.154786\n",
       "2020-12-01                   537        347         85    0.646182    0.158287\n",
       "2021-01-01                   447        278         50    0.621924    0.111857\n",
       "2021-02-01                   491        320         66    0.651731    0.134420\n",
       "2021-03-01                   532        362         79    0.680451    0.148496\n",
       "\n",
       "[111 rows x 5 columns]"
      ]
     },
     "execution_count": 52,
     "metadata": {},
     "output_type": "execute_result"
    }
   ],
   "source": [
    "\n",
    "def_by_race = df_c.groupby([\"sentenceym_derived\"]).agg(     \n",
    "    unique_cases = (\"CASE_ID\", \"nunique\"),\n",
    "    black_def = (\"is_black_derived\", \"sum\"),\n",
    "    white_def = (\"is_white_derived\", \"sum\"))\n",
    "\n",
    "def_by_race[\"black_prop\"] = def_by_race.black_def / def_by_race.unique_cases   #black defendants/total cases per month\n",
    "def_by_race[\"white_prop\"] = def_by_race.white_def / def_by_race.unique_cases   #white defendants/total cases per month\n",
    "\n",
    "def_by_race\n"
   ]
  },
  {
   "cell_type": "code",
   "execution_count": 53,
   "metadata": {},
   "outputs": [
    {
     "data": {
      "text/plain": [
       "[<matplotlib.lines.Line2D at 0x7f85420adc10>]"
      ]
     },
     "execution_count": 53,
     "metadata": {},
     "output_type": "execute_result"
    },
    {
     "data": {
      "text/plain": [
       "[<matplotlib.lines.Line2D at 0x7f8522228190>]"
      ]
     },
     "execution_count": 53,
     "metadata": {},
     "output_type": "execute_result"
    },
    {
     "data": {
      "text/plain": [
       "Text(0.5, 0, 'Date (Month-Year)')"
      ]
     },
     "execution_count": 53,
     "metadata": {},
     "output_type": "execute_result"
    },
    {
     "data": {
      "text/plain": [
       "Text(0, 0.5, 'proportion of defendants')"
      ]
     },
     "execution_count": 53,
     "metadata": {},
     "output_type": "execute_result"
    },
    {
     "data": {
      "text/plain": [
       "<matplotlib.legend.Legend at 0x7f854e696af0>"
      ]
     },
     "execution_count": 53,
     "metadata": {},
     "output_type": "execute_result"
    },
    {
     "data": {
      "image/png": "[encoded data removed]",
      "text/plain": [
       "<Figure size 432x288 with 1 Axes>"
      ]
     },
     "metadata": {
      "needs_background": "light"
     },
     "output_type": "display_data"
    }
   ],
   "source": [
    "# plot proportion of White vs. Black defendants over time\n",
    "plt.plot(def_by_race.index, def_by_race[\"black_prop\"], label = \"Black\")\n",
    "plt.plot(def_by_race.index, def_by_race[\"white_prop\"], label = \"White\")\n",
    "\n",
    "plt.xlabel(\"Date (Month-Year)\")\n",
    "plt.ylabel(\"proportion of defendants\")\n",
    "plt.legend()\n",
    "\n",
    "plt.show()"
   ]
  },
  {
   "cell_type": "markdown",
   "metadata": {},
   "source": [
    "$$ P_{\\text{black}} = \\frac{\\sum \\text{black\\_defendants}}{\\sum \\text{unique\\_cases}} $$\n",
    "​\n",
    "$$ P_{\\text{white}} = \\frac{\\sum \\text{white\\_defendants}}{\\sum \\text{unique\\_cases}} $$\n",
    "\n",
    "The proportion of white defendants skyrockets in April and May of 2020."
   ]
  },
  {
   "cell_type": "markdown",
   "metadata": {},
   "source": [
    "## 2.2: Investigating the first type of disparity: probation versus incaceration (10 points)\n",
    "\n",
    "One type of disparity beyond who arrives at the sentencing stage is whether the defendant receives probation or incaceration.\n",
    "\n",
    "According to the codebook, incarceration is indicated by `COMMITMENT_TYPE` == \"Illinois Department of Corrections\"\n",
    "\n",
    "Recreate the previous plot but where the y axis represents the difference between the following proportions (can be either Black - White or White - Black but make sure to label), adding a smoothed line:\n",
    "\n",
    "- Percent of black defendants who are incarcerated out of all black defendants that month/year \n",
    "- Percent of white defendants who are incarcerated out of all white defendants that month/year \n",
    "\n",
    "In a markdown cell after, write 1-2 sentences on your observations of trends over time. Do gaps seem to be widening or increasing?"
   ]
  },
  {
   "cell_type": "code",
   "execution_count": 54,
   "metadata": {},
   "outputs": [
    {
     "data": {
      "text/plain": [
       "[<matplotlib.lines.Line2D at 0x7f854bec1f70>]"
      ]
     },
     "execution_count": 54,
     "metadata": {},
     "output_type": "execute_result"
    },
    {
     "data": {
      "text/plain": [
       "[<matplotlib.lines.Line2D at 0x7f85684a9700>]"
      ]
     },
     "execution_count": 54,
     "metadata": {},
     "output_type": "execute_result"
    },
    {
     "data": {
      "text/plain": [
       "Text(0.5, 0, 'date')"
      ]
     },
     "execution_count": 54,
     "metadata": {},
     "output_type": "execute_result"
    },
    {
     "data": {
      "text/plain": [
       "Text(0, 0.5, 'disparity in incarceration proportion (Black - White)')"
      ]
     },
     "execution_count": 54,
     "metadata": {},
     "output_type": "execute_result"
    },
    {
     "data": {
      "image/png": "[encoded data removed]",
      "text/plain": [
       "<Figure size 432x288 with 1 Axes>"
      ]
     },
     "metadata": {
      "needs_background": "light"
     },
     "output_type": "display_data"
    }
   ],
   "source": [
    "df_incar = df_c[df_c.COMMITMENT_TYPE == \"Illinois Department of Corrections\"]\n",
    "\n",
    "total_by_race = df_c.groupby([\"sentenceym_derived\"])[[\"is_black_derived\", \"is_white_derived\"]].sum()\n",
    "incar_by_race = df_incar.groupby([\"sentenceym_derived\"])[[\"is_black_derived\", \"is_white_derived\"]].sum()\n",
    "\n",
    "black_incar_prop = incar_by_race.is_black_derived / total_by_race.is_black_derived\n",
    "white_incar_prop = incar_by_race.is_white_derived / total_by_race.is_white_derived\n",
    "\n",
    "incar_diff = black_incar_prop - white_incar_prop\n",
    "\n",
    "# plot disparity in incarceration proportion over time\n",
    "plt.plot(incar_diff.index, incar_diff)\n",
    "\n",
    "smoothed_line = incar_diff.rolling(window = 7).mean()\n",
    "plt.plot(incar_diff.index, smoothed_line, color = \"red\", linestyle = \"--\")\n",
    "\n",
    "plt.xlabel(\"date\")\n",
    "plt.ylabel(\"disparity in incarceration proportion (Black - White)\")\n",
    "\n",
    "plt.show()"
   ]
  },
  {
   "cell_type": "markdown",
   "metadata": {},
   "source": [
    "Black defendants are more likely to get incarcerated (smoothed line consistently greater than 0). The disparities between the incarceration proportion of black defendants and the incarceration proportion of white defendants remains relatively stable but widens a bit over 2019-2021. There is a sharp decrease in early 2020 followed by an uptick. "
   ]
  },
  {
   "cell_type": "markdown",
   "metadata": {},
   "source": [
    "## 2.3: Investigating mechanisms: incaceration rates by charge\n",
    "\n",
    "Your colleague sees the previous graph and is worried that the gap could be different---either wider or smaller---if you adjust for the fact that prosecutors have discretion in what crimes to charge defendants with. If white defendants are charged with crimes that tend to receive probation rather than incarceration, that could explain some of the gaps.\n",
    "\n",
    "In the next questions, you'll begin to investigate this."
   ]
  },
  {
   "cell_type": "markdown",
   "metadata": {},
   "source": [
    "### 2.3.1: Find the most common offenses (3 points)\n",
    "\n",
    "First, create a set of 'frequent offenses' that represent (over the entire period) the union of the 10 offenses Black defendant are most likely to be charged with and the 10 offenses white defendants are most likely to be charged with (might be far less than 20 total if there's a lot of overlap in common charges)\n",
    "\n",
    "Use the `simplified_offense_derived` for this"
   ]
  },
  {
   "cell_type": "code",
   "execution_count": 55,
   "metadata": {},
   "outputs": [],
   "source": [
    "top_black_offenses = df_c[df_c.is_black_derived][\"simplified_offense_derived\"].value_counts().head(10).index.tolist()\n",
    "top_white_offenses = df_c[df_c.is_white_derived][\"simplified_offense_derived\"].value_counts().head(10).index.tolist()\n",
    "\n",
    "frequent_offenses = top_black_offenses + [off for off in top_white_offenses if off not in top_black_offenses]"
   ]
  },
  {
   "cell_type": "markdown",
   "metadata": {},
   "source": [
    "### 2.3.2: Look at incarceration rates (again just whether incarcerated) by race and offense type for these top offenses (3 points)\n",
    "\n",
    "Print a wide-format version of the resulting table (so each row is an offense type, one col is black incarceration rate for that offense type; another is the white incarceration rate) and interpret. Which offenses show the largest disparities in judges being less likely to sentence White defendants to incarceration/more likely to offer those defendants probation?\n"
   ]
  },
  {
   "cell_type": "code",
   "execution_count": 56,
   "metadata": {},
   "outputs": [
    {
     "data": {
      "text/html": [
       "<div>\n",
       "<style scoped>\n",
       "    .dataframe tbody tr th:only-of-type {\n",
       "        vertical-align: middle;\n",
       "    }\n",
       "\n",
       "    .dataframe tbody tr th {\n",
       "        vertical-align: top;\n",
       "    }\n",
       "\n",
       "    .dataframe thead th {\n",
       "        text-align: right;\n",
       "    }\n",
       "</style>\n",
       "<table border=\"1\" class=\"dataframe\">\n",
       "  <thead>\n",
       "    <tr style=\"text-align: right;\">\n",
       "      <th></th>\n",
       "      <th>black_incar_rate</th>\n",
       "      <th>white_incar_rate</th>\n",
       "    </tr>\n",
       "  </thead>\n",
       "  <tbody>\n",
       "    <tr>\n",
       "      <th>Narcotics</th>\n",
       "      <td>0.854838</td>\n",
       "      <td>0.064433</td>\n",
       "    </tr>\n",
       "    <tr>\n",
       "      <th>UUW - Unlawful Use of Weapon</th>\n",
       "      <td>0.829901</td>\n",
       "      <td>0.031514</td>\n",
       "    </tr>\n",
       "    <tr>\n",
       "      <th>Retail Theft</th>\n",
       "      <td>0.709689</td>\n",
       "      <td>0.197272</td>\n",
       "    </tr>\n",
       "    <tr>\n",
       "      <th>Battery</th>\n",
       "      <td>0.726742</td>\n",
       "      <td>0.122505</td>\n",
       "    </tr>\n",
       "    <tr>\n",
       "      <th>Driving With Suspended Or Revoked License</th>\n",
       "      <td>0.620162</td>\n",
       "      <td>0.137602</td>\n",
       "    </tr>\n",
       "    <tr>\n",
       "      <th>DUI</th>\n",
       "      <td>0.420313</td>\n",
       "      <td>0.184225</td>\n",
       "    </tr>\n",
       "    <tr>\n",
       "      <th>Burglary</th>\n",
       "      <td>0.654006</td>\n",
       "      <td>0.202653</td>\n",
       "    </tr>\n",
       "    <tr>\n",
       "      <th>Theft</th>\n",
       "      <td>0.653574</td>\n",
       "      <td>0.224726</td>\n",
       "    </tr>\n",
       "    <tr>\n",
       "      <th>Vehicle-related</th>\n",
       "      <td>0.736288</td>\n",
       "      <td>0.117452</td>\n",
       "    </tr>\n",
       "    <tr>\n",
       "      <th>Robbery</th>\n",
       "      <td>0.792835</td>\n",
       "      <td>0.068536</td>\n",
       "    </tr>\n",
       "    <tr>\n",
       "      <th>Residential Burglary</th>\n",
       "      <td>0.641347</td>\n",
       "      <td>0.183634</td>\n",
       "    </tr>\n",
       "    <tr>\n",
       "      <th>Other Offense</th>\n",
       "      <td>0.655814</td>\n",
       "      <td>0.203101</td>\n",
       "    </tr>\n",
       "  </tbody>\n",
       "</table>\n",
       "</div>"
      ],
      "text/plain": [
       "                                           black_incar_rate  white_incar_rate\n",
       "Narcotics                                          0.854838          0.064433\n",
       "UUW - Unlawful Use of Weapon                       0.829901          0.031514\n",
       "Retail Theft                                       0.709689          0.197272\n",
       "Battery                                            0.726742          0.122505\n",
       "Driving With Suspended Or Revoked License          0.620162          0.137602\n",
       "DUI                                                0.420313          0.184225\n",
       "Burglary                                           0.654006          0.202653\n",
       "Theft                                              0.653574          0.224726\n",
       "Vehicle-related                                    0.736288          0.117452\n",
       "Robbery                                            0.792835          0.068536\n",
       "Residential Burglary                               0.641347          0.183634\n",
       "Other Offense                                      0.655814          0.203101"
      ]
     },
     "execution_count": 56,
     "metadata": {},
     "output_type": "execute_result"
    }
   ],
   "source": [
    "df_incar_by_off = pd.DataFrame(index = frequent_offenses)\n",
    "\n",
    "for off in frequent_offenses:\n",
    "    black_incar_rate = df_incar[df_incar.simplified_offense_derived == off].is_black_derived.mean()\n",
    "    white_incar_rate = df_incar[df_incar.simplified_offense_derived == off].is_white_derived.mean()\n",
    "    df_incar_by_off.loc[off, \"black_incar_rate\"] = black_incar_rate\n",
    "    df_incar_by_off.loc[off, \"white_incar_rate\"] = white_incar_rate\n",
    "\n",
    "df_incar_by_off"
   ]
  },
  {
   "cell_type": "markdown",
   "metadata": {},
   "source": [
    "Narcotics, UUW, and robbery show the largest Black-White disparities, with Black defendants significantly more likely to get sentenced to incarceration for those offenses."
   ]
  },
  {
   "cell_type": "markdown",
   "metadata": {},
   "source": [
    "### 2.3.3: Examine whether this changes pre and post change to charging threshold for retail theft (13 points)\n",
    "\n",
    "One important question is not only whether there are disparities by offense type but also whether these disparities are changing over time.\n",
    "\n",
    "The SAO, for instance, announced in December of 2016 that they would no longer default to charging retail thefts of under \\$1,000 as felonies. This change might have (1) decreased disparities or (2) increased disparities, depending on the correlation between race/ethnicity and magnitude of goods stolen: [news coverage](https://www.dnainfo.com/chicago/20161215/little-village/kim-foxx-raises-bar-for-retail-theft-felonies/). \n",
    "\n",
    "Focusing on `simplified_offense_derived` == \"Retail theft.\" Using a function and/or loop (Dec. 2016 is always excluded as a transition month):\n",
    "\n",
    "- Compare Black-White disparities before and after the change using a two-month bandwidth (so pre is October and November 2016; post is January and February 2017)\n",
    "\n",
    "- Compare Black-White disparities before and after the change using a four-month bandwidth (so pre is August- November 2016; post is January - April 2017)\n",
    "\n",
    "- Compare Black-White disparities using an eight-month bandwidth\n",
    "\n",
    "- Compare Black-White disparities using a twelve-month bandwidth\n",
    "\n",
    "\n",
    "------------------ \n",
    "\n",
    "- Print a table with the results (any organization is fine as long as it's clear)  \n",
    "\n",
    "- Create a bar chart where the x axis represents different bandwidths (2, 4, etc); the y axis the size of the Black-White gap in whether the defendant receives incarceration, and for each of the x axis points, you have one shaded bar representing \"before\" the change, another representing \"after\" the change (make sure that before is ordered before after and the bandwidths are from smallest to largest)\n",
    "\n",
    "*Note*: for each of the bandwidths include dates the entire month (e.g., for the first, include not only 02-01-2017 but everything up through 02-28-2017; easiest way is for the subsetting to use the rounded `sentenceym_derived`). Also make sure to only include white or black defendants.\n",
    "\n",
    "\n",
    "**Extra credit**: because the bandwidths have different sample sizes, a better viz incorporates measures of uncertainty. Add standard errors to the estimates using the formula: $(\\dfrac{p(1-p)}{n})^{0.5}$ where $p$ is the gap and $N$ is the number of cases in each bandwidth period \n"
   ]
  },
  {
   "cell_type": "code",
   "execution_count": 57,
   "metadata": {},
   "outputs": [
    {
     "data": {
      "text/html": [
       "<div>\n",
       "<style scoped>\n",
       "    .dataframe tbody tr th:only-of-type {\n",
       "        vertical-align: middle;\n",
       "    }\n",
       "\n",
       "    .dataframe tbody tr th {\n",
       "        vertical-align: top;\n",
       "    }\n",
       "\n",
       "    .dataframe thead th {\n",
       "        text-align: right;\n",
       "    }\n",
       "</style>\n",
       "<table border=\"1\" class=\"dataframe\">\n",
       "  <thead>\n",
       "    <tr style=\"text-align: right;\">\n",
       "      <th></th>\n",
       "      <th>pre_disparity</th>\n",
       "      <th>post_disparity</th>\n",
       "    </tr>\n",
       "  </thead>\n",
       "  <tbody>\n",
       "    <tr>\n",
       "      <th>2</th>\n",
       "      <td>0.087912</td>\n",
       "      <td>0.118622</td>\n",
       "    </tr>\n",
       "    <tr>\n",
       "      <th>4</th>\n",
       "      <td>0.081588</td>\n",
       "      <td>0.034002</td>\n",
       "    </tr>\n",
       "    <tr>\n",
       "      <th>8</th>\n",
       "      <td>0.1329</td>\n",
       "      <td>0.065082</td>\n",
       "    </tr>\n",
       "    <tr>\n",
       "      <th>12</th>\n",
       "      <td>0.161618</td>\n",
       "      <td>0.06831</td>\n",
       "    </tr>\n",
       "  </tbody>\n",
       "</table>\n",
       "</div>"
      ],
      "text/plain": [
       "   pre_disparity post_disparity\n",
       "2       0.087912       0.118622\n",
       "4       0.081588       0.034002\n",
       "8         0.1329       0.065082\n",
       "12      0.161618        0.06831"
      ]
     },
     "execution_count": 57,
     "metadata": {},
     "output_type": "execute_result"
    },
    {
     "data": {
      "text/plain": [
       "<Axes: >"
      ]
     },
     "execution_count": 57,
     "metadata": {},
     "output_type": "execute_result"
    },
    {
     "data": {
      "text/plain": [
       "<Axes: >"
      ]
     },
     "execution_count": 57,
     "metadata": {},
     "output_type": "execute_result"
    },
    {
     "data": {
      "text/plain": [
       "Text(0.5, 0, 'bandwidth (months)')"
      ]
     },
     "execution_count": 57,
     "metadata": {},
     "output_type": "execute_result"
    },
    {
     "data": {
      "text/plain": [
       "Text(0, 0.5, 'disparity in incarceration rate (Black - White)')"
      ]
     },
     "execution_count": 57,
     "metadata": {},
     "output_type": "execute_result"
    },
    {
     "data": {
      "text/plain": [
       "(-0.5, 3.5)"
      ]
     },
     "execution_count": 57,
     "metadata": {},
     "output_type": "execute_result"
    },
    {
     "data": {
      "text/plain": [
       "<matplotlib.legend.Legend at 0x7f8521cce850>"
      ]
     },
     "execution_count": 57,
     "metadata": {},
     "output_type": "execute_result"
    },
    {
     "data": {
      "image/png": "[encoded data removed]",
      "text/plain": [
       "<Figure size 432x288 with 1 Axes>"
      ]
     },
     "metadata": {
      "needs_background": "light"
     },
     "output_type": "display_data"
    }
   ],
   "source": [
    "# function returning the incarceration disparities before and after Dec 2016\n",
    "def calculate_disparity(df, offense, bandwidth):\n",
    "    change_date = pd.to_datetime(\"2016-12-01\")\n",
    "    \n",
    "    start_date = change_date - pd.DateOffset(months = bandwidth)\n",
    "    end_date = change_date + pd.DateOffset(months = (bandwidth + 1))\n",
    "    \n",
    "    pre_change = df[(df.simplified_offense_derived == offense) & \n",
    "                    (df.sentenceym_derived >= start_date) & \n",
    "                    (df.sentenceym_derived < change_date)]\n",
    "    \n",
    "    post_change = df[(df.simplified_offense_derived == offense) & \n",
    "                     (df.sentenceym_derived > change_date) & \n",
    "                     (df.sentenceym_derived <= end_date)]\n",
    "    \n",
    "    #pre-change incarceration proportions\n",
    "    pre_black_incar_charged = pre_change[(pre_change.COMMITMENT_TYPE == \"Illinois Department of Corrections\") & (pre_change.is_black_derived == True)].shape[0]\n",
    "    pre_black_charged = pre_change[pre_change.is_black_derived == True].shape[0]\n",
    "    \n",
    "    pre_white_incar_charged = pre_change[(pre_change.COMMITMENT_TYPE == \"Illinois Department of Corrections\") & (pre_change.is_white_derived == True)].shape[0]\n",
    "    pre_white_charged = pre_change[pre_change.is_white_derived == True].shape[0]\n",
    "    \n",
    "    #pre-change difference between black and white\n",
    "    pre_disparity =  (pre_black_incar_charged/pre_black_charged) - (pre_white_incar_charged/pre_white_charged)\n",
    "    \n",
    "    #post-change incarceration proportions\n",
    "    post_black_incar_charged = post_change[(post_change.COMMITMENT_TYPE == \"Illinois Department of Corrections\") & (post_change.is_black_derived == True)].shape[0]\n",
    "    post_black_charged = post_change[post_change.is_black_derived == True].shape[0]\n",
    "    \n",
    "    post_white_incar_charged = post_change[(post_change.COMMITMENT_TYPE == \"Illinois Department of Corrections\") & (post_change.is_white_derived == True)].shape[0]\n",
    "    post_white_charged = post_change[post_change.is_white_derived == True].shape[0]\n",
    "    \n",
    "    #post-change incarceration proportions\n",
    "    post_disparity =  (post_black_incar_charged/post_black_charged) - (post_white_incar_charged/post_white_charged)\n",
    "    \n",
    "    return pre_disparity, post_disparity\n",
    "\n",
    "# create a disparities dataframe\n",
    "bandwidths = [2, 4, 8, 12]\n",
    "df_disparities = pd.DataFrame(index = bandwidths, columns = [\"pre_disparity\", \"post_disparity\"])\n",
    "\n",
    "for b in bandwidths:\n",
    "    pre_disparity, post_disparity = calculate_disparity(df_c, \"Retail Theft\", b)\n",
    "    df_disparities.loc[b] = [pre_disparity, post_disparity]\n",
    "\n",
    "df_disparities\n",
    "\n",
    "# bar chart for Black-White disparities pre and post change\n",
    "df_disparities.pre_disparity.plot(kind = \"bar\", color = \"olive\", width = 0.4, position = 1, label = \"before Dec 2016\")\n",
    "df_disparities.post_disparity.plot(kind = \"bar\", color = \"thistle\", width = 0.4, position = 0, label = \"after Dec 2016\")\n",
    "\n",
    "plt.xlabel(\"bandwidth (months)\")\n",
    "plt.ylabel(\"disparity in incarceration rate (Black - White)\")\n",
    "plt.xlim(- 0.5, len(df_disparities) - 0.5)\n",
    "plt.legend()\n",
    "\n",
    "plt.show()"
   ]
  },
  {
   "cell_type": "markdown",
   "metadata": {},
   "source": [
    "### 2.3.3.1: Interpret the results (2 points)\n",
    "\n",
    "Write a two-sentence interpretation of the results. What might this show about how people on both sides of the issue---those who argued that the retail theft policy change would narrow disparities; those who argued that the change may widen disparities--could support their claims? "
   ]
  },
  {
   "cell_type": "markdown",
   "metadata": {},
   "source": [
    "In the bandwidth immediately following the policy change (2-month bandwidth), the disparities were actually higher after the policy but, more long term, we see disparities decreasing after the policy went into effect. The short-term effects would support those who argued that the change may widen disparities, but the longer-term effects would support those who argued that the change would narrow disparities."
   ]
  }
 ],
 "metadata": {
  "kernelspec": {
   "display_name": "Python 3",
   "language": "python",
   "name": "python3"
  },
  "language_info": {
   "codemirror_mode": {
    "name": "ipython",
    "version": 3
   },
   "file_extension": ".py",
   "mimetype": "text/x-python",
   "name": "python",
   "nbconvert_exporter": "python",
   "pygments_lexer": "ipython3",
   "version": "3.8.5"
  }
 },
 "nbformat": 4,
 "nbformat_minor": 4
}
